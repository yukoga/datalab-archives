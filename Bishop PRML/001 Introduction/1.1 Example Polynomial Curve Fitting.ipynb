{
 "cells": [
  {
   "cell_type": "markdown",
   "metadata": {},
   "source": [
    "# 1.1 Example: Polynomial Curve Fitting"
   ]
  },
  {
   "cell_type": "code",
   "execution_count": null,
   "metadata": {
    "collapsed": true
   },
   "outputs": [],
   "source": [
    "%matplotlib inline"
   ]
  },
  {
   "cell_type": "code",
   "execution_count": null,
   "metadata": {
    "collapsed": false
   },
   "outputs": [],
   "source": [
    "import numpy as np\n",
    "import pandas as pd\n",
    "import tensorflow as tf\n",
    "import matplotlib.pyplot as plt\n",
    "from numpy.random import permutation as perm"
   ]
  },
  {
   "cell_type": "code",
   "execution_count": null,
   "metadata": {
    "collapsed": false
   },
   "outputs": [],
   "source": [
    "# generate sample data\n",
    "np.random.seed(20160101)\n",
    "n_sample, mu, variance = 20, 0, 0.5\n",
    "noise = np.random.normal(mu, variance, n_sample)\n",
    "x = np.linspace(0, 1, n_sample)\n",
    "y = np.sin(2.0*np.pi*x) + noise"
   ]
  },
  {
   "cell_type": "code",
   "execution_count": null,
   "metadata": {
    "collapsed": false
   },
   "outputs": [],
   "source": [
    "# plot sample data\n",
    "linex = np.linspace(0, 1, 200)\n",
    "liney = np.sin(2.0*np.pi*linex)\n",
    "\n",
    "fig = plt.figure(figsize=(6,6))\n",
    "subplot = fig.add_subplot(1,1,1)\n",
    "subplot.set_ylim([-2,2])\n",
    "subplot.set_xlim([-0.02,1.02])\n",
    "subplot.scatter(x, y, marker='o')\n",
    "subplot.plot(linex, liney, color='r')\n",
    "plt.show()"
   ]
  },
  {
   "cell_type": "code",
   "execution_count": null,
   "metadata": {
    "collapsed": false
   },
   "outputs": [],
   "source": [
    "# model for TensorFlow\n",
    "M_size = 10 # -> 0 - 9\n",
    "u = np.array([x ** k for k in range(M_size)]).T\n",
    "tf_u = tf.placeholder(tf.float32, [None, M_size])\n",
    "tf_w = tf.Variable(tf.zeros([M_size, 1]))\n",
    "tf_y = tf.matmul(tf_u, tf_w)"
   ]
  },
  {
   "cell_type": "code",
   "execution_count": null,
   "metadata": {
    "collapsed": false
   },
   "outputs": [],
   "source": [
    "for p in range(10):\n",
    "  print(p, list(map(lambda x: x**p, [1,2,3,4,5])))"
   ]
  }
 ],
 "metadata": {
  "kernelspec": {
   "display_name": "Python 2",
   "language": "python",
   "name": "python2"
  },
  "language_info": {
   "codemirror_mode": {
    "name": "ipython",
    "version": 2
   },
   "file_extension": ".py",
   "mimetype": "text/x-python",
   "name": "python",
   "nbconvert_exporter": "python",
   "pygments_lexer": "ipython2",
   "version": "2.7.12+"
  }
 },
 "nbformat": 4,
 "nbformat_minor": 0
}
