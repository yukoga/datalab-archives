{
 "cells": [
  {
   "cell_type": "markdown",
   "metadata": {},
   "source": [
    "### List all cloud models in this project"
   ]
  },
  {
   "cell_type": "code",
   "execution_count": 3,
   "metadata": {
    "collapsed": false
   },
   "outputs": [
    {
     "data": {
      "text/html": [
       "<ul><li>MNIST</li><li>binary_classifier</li><li>census</li><li>census1</li><li>criteo_fm_datalab</li><li>criteo_simple_datalab</li><li>criteosimple</li><li>image</li><li>imdb</li><li>mnist</li><li>regression</li><li>testimdb_v160315_232034</li><li>testimdb_v160315_234353</li><li>testimdb_v160315_234943</li><li>testimdb_v160316_000253</li><li>testimdb_v160316_002140</li></ul>"
      ],
      "text/plain": [
       "<IPython.core.display.HTML object>"
      ]
     },
     "execution_count": 3,
     "metadata": {},
     "output_type": "execute_result"
    }
   ],
   "source": [
    "%%ml models --cloud"
   ]
  },
  {
   "cell_type": "markdown",
   "metadata": {},
   "source": [
    "### Check details of a model"
   ]
  },
  {
   "cell_type": "code",
   "execution_count": 4,
   "metadata": {
    "collapsed": false
   },
   "outputs": [
    {
     "data": {
      "text/html": [
       "<pre>name: projects/cloud-ml-users/models/census\n",
       "scenario: CLASSIFICATION\n",
       "versions:\n",
       "- createTime: '2016-03-31T02:20:02.000Z'\n",
       "  name: v8\n",
       "  ready: true\n",
       "  trainingAnalysis:\n",
       "    classification:\n",
       "      error: 0.1492537260055542\n",
       "- createTime: '2016-03-31T02:47:15.000Z'\n",
       "  name: v9\n",
       "  ready: true\n",
       "  trainingAnalysis:\n",
       "    classification:\n",
       "      error: 0.14992935955524445\n",
       "- createTime: '2016-03-31T03:08:46.000Z'\n",
       "  name: v10\n",
       "  ready: true\n",
       "  trainingAnalysis:\n",
       "    classification:\n",
       "      error: 0.14919230341911316\n",
       "- createTime: '2016-03-31T23:12:36.000Z'\n",
       "  name: v1\n",
       "</pre>"
      ],
      "text/plain": [
       "<IPython.core.display.HTML object>"
      ]
     },
     "execution_count": 4,
     "metadata": {},
     "output_type": "execute_result"
    }
   ],
   "source": [
    "%%ml describe --model census --cloud"
   ]
  },
  {
   "cell_type": "markdown",
   "metadata": {},
   "source": [
    "### Check details of a model version"
   ]
  },
  {
   "cell_type": "code",
   "execution_count": 5,
   "metadata": {
    "collapsed": false
   },
   "outputs": [
    {
     "data": {
      "text/html": [
       "<pre>evalData:\n",
       "  files:\n",
       "    uris:\n",
       "    - gs://cloud-ml-users-mldata/sampledata/ml/census/preprocessed_test*\n",
       "model:\n",
       "  classification:\n",
       "    tensorflowGraph:\n",
       "      graphUri: gs://cloud-ml-users-mldata/sampledata/ml/census/census/v1/graph.json\n",
       "      session:\n",
       "        batchSize: 64\n",
       "        steps: 3000\n",
       "trainData:\n",
       "  files:\n",
       "    uris:\n",
       "    - gs://cloud-ml-users-mldata/sampledata/ml/census/preprocessed_train*\n",
       "trainingAnalysis: {}\n",
       "trainingOperationName: projects/cloud-ml-users/operations/3bca98e4-ac2c-46f3-9e17-2225ead33fa0\n",
       "</pre>"
      ],
      "text/plain": [
       "<IPython.core.display.HTML object>"
      ]
     },
     "execution_count": 5,
     "metadata": {},
     "output_type": "execute_result"
    }
   ],
   "source": [
    "%%ml describe --model census.v1 --cloud"
   ]
  },
  {
   "cell_type": "markdown",
   "metadata": {},
   "source": [
    "### Delete a model version"
   ]
  },
  {
   "cell_type": "code",
   "execution_count": null,
   "metadata": {
    "collapsed": false
   },
   "outputs": [],
   "source": [
    "%%ml delete --model census.v1"
   ]
  },
  {
   "cell_type": "markdown",
   "metadata": {},
   "source": [
    "### Same things can be done for local models"
   ]
  },
  {
   "cell_type": "code",
   "execution_count": 2,
   "metadata": {
    "collapsed": false
   },
   "outputs": [
    {
     "data": {
      "text/html": [
       "<ul><li>census</li></ul>"
      ],
      "text/plain": [
       "<IPython.core.display.HTML object>"
      ]
     },
     "execution_count": 2,
     "metadata": {},
     "output_type": "execute_result"
    }
   ],
   "source": [
    "%%ml models"
   ]
  },
  {
   "cell_type": "code",
   "execution_count": 3,
   "metadata": {
    "collapsed": false
   },
   "outputs": [
    {
     "data": {
      "text/html": [
       "<pre>name: census\n",
       "scenario: null\n",
       "versions:\n",
       "- name: v3\n",
       "- name: v2\n",
       "- name: v1\n",
       "- name: v4\n",
       "</pre>"
      ],
      "text/plain": [
       "<IPython.core.display.HTML object>"
      ]
     },
     "execution_count": 3,
     "metadata": {},
     "output_type": "execute_result"
    }
   ],
   "source": [
    "%%ml describe -m census"
   ]
  },
  {
   "cell_type": "code",
   "execution_count": null,
   "metadata": {
    "collapsed": true
   },
   "outputs": [],
   "source": []
  }
 ],
 "metadata": {
  "kernelspec": {
   "display_name": "Python 2",
   "language": "python",
   "name": "python2"
  },
  "language_info": {
   "codemirror_mode": {
    "name": "ipython",
    "version": 2
   },
   "file_extension": ".py",
   "mimetype": "text/x-python",
   "name": "python",
   "nbconvert_exporter": "python",
   "pygments_lexer": "ipython2",
   "version": "2.7.9"
  }
 },
 "nbformat": 4,
 "nbformat_minor": 0
}
