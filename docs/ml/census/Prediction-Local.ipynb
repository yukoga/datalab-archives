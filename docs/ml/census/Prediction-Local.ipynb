{
 "cells": [
  {
   "cell_type": "markdown",
   "metadata": {},
   "source": [
    "### Online Prediction"
   ]
  },
  {
   "cell_type": "markdown",
   "metadata": {},
   "source": [
    "Online prediction with CSV data."
   ]
  },
  {
   "cell_type": "code",
   "execution_count": 2,
   "metadata": {
    "collapsed": false
   },
   "outputs": [
    {
     "data": {
      "text/html": [
       "<table border=\"1\" class=\"dataframe\">\n",
       "  <thead>\n",
       "    <tr style=\"text-align: right;\">\n",
       "      <th></th>\n",
       "      <th>instance</th>\n",
       "      <th>label</th>\n",
       "      <th>score</th>\n",
       "    </tr>\n",
       "  </thead>\n",
       "  <tbody>\n",
       "    <tr>\n",
       "      <th>0</th>\n",
       "      <td>25,Private,226802,11th,7,Never-married,Machine...</td>\n",
       "      <td>0</td>\n",
       "      <td>0.990934</td>\n",
       "    </tr>\n",
       "    <tr>\n",
       "      <th>1</th>\n",
       "      <td>38,Private,89814,HS-grad,9,Married-civ-spouse,...</td>\n",
       "      <td>0</td>\n",
       "      <td>0.788922</td>\n",
       "    </tr>\n",
       "    <tr>\n",
       "      <th>2</th>\n",
       "      <td>28,Local-gov,336951,Assoc-acdm,12,Married-civ-...</td>\n",
       "      <td>0</td>\n",
       "      <td>0.635449</td>\n",
       "    </tr>\n",
       "    <tr>\n",
       "      <th>3</th>\n",
       "      <td>44,Private,160323,Some-college,10,Married-civ-...</td>\n",
       "      <td>0</td>\n",
       "      <td>0.701170</td>\n",
       "    </tr>\n",
       "    <tr>\n",
       "      <th>4</th>\n",
       "      <td>18,?,103497,Some-college,10,Never-married,?,Ow...</td>\n",
       "      <td>0</td>\n",
       "      <td>0.994480</td>\n",
       "    </tr>\n",
       "    <tr>\n",
       "      <th>5</th>\n",
       "      <td>34,Private,198693,10th,6,Never-married,Other-s...</td>\n",
       "      <td>0</td>\n",
       "      <td>0.988425</td>\n",
       "    </tr>\n",
       "    <tr>\n",
       "      <th>6</th>\n",
       "      <td>29,?,227026,HS-grad,9,Never-married,?,Unmarrie...</td>\n",
       "      <td>0</td>\n",
       "      <td>0.987236</td>\n",
       "    </tr>\n",
       "    <tr>\n",
       "      <th>7</th>\n",
       "      <td>63,Self-emp-not-inc,104626,Prof-school,15,Marr...</td>\n",
       "      <td>1</td>\n",
       "      <td>0.803171</td>\n",
       "    </tr>\n",
       "    <tr>\n",
       "      <th>8</th>\n",
       "      <td>24,Private,369667,Some-college,10,Never-marrie...</td>\n",
       "      <td>0</td>\n",
       "      <td>0.989937</td>\n",
       "    </tr>\n",
       "    <tr>\n",
       "      <th>9</th>\n",
       "      <td>55,Private,104996,7th-8th,4,Married-civ-spouse...</td>\n",
       "      <td>0</td>\n",
       "      <td>0.883523</td>\n",
       "    </tr>\n",
       "    <tr>\n",
       "      <th>10</th>\n",
       "      <td>65,Private,184454,HS-grad,9,Married-civ-spouse...</td>\n",
       "      <td>0</td>\n",
       "      <td>0.660383</td>\n",
       "    </tr>\n",
       "    <tr>\n",
       "      <th>11</th>\n",
       "      <td>36,Federal-gov,212465,Bachelors,13,Married-civ...</td>\n",
       "      <td>1</td>\n",
       "      <td>0.619419</td>\n",
       "    </tr>\n",
       "  </tbody>\n",
       "</table>"
      ],
      "text/plain": [
       "<IPython.core.display.HTML object>"
      ]
     },
     "execution_count": 2,
     "metadata": {},
     "output_type": "execute_result"
    }
   ],
   "source": [
    "%%ml predict -m census.v1\n",
    "25,Private,226802,11th,7,Never-married,Machine-op-inspct,Own-child,Black,Male,0,0,40,United-States\n",
    "38,Private,89814,HS-grad,9,Married-civ-spouse,Farming-fishing,Husband,White,Male,0,0,50,United-States\n",
    "28,Local-gov,336951,Assoc-acdm,12,Married-civ-spouse,Protective-serv,Husband,White,Male,0,0,40,United-States\n",
    "44,Private,160323,Some-college,10,Married-civ-spouse,Machine-op-inspct,Husband,Black,Male,7688,0,40,United-States\n",
    "18,?,103497,Some-college,10,Never-married,?,Own-child,White,Female,0,0,30,United-States\n",
    "34,Private,198693,10th,6,Never-married,Other-service,Not-in-family,White,Male,0,0,30,United-States\n",
    "29,?,227026,HS-grad,9,Never-married,?,Unmarried,Black,Male,0,0,40,United-States\n",
    "63,Self-emp-not-inc,104626,Prof-school,15,Married-civ-spouse,Prof-specialty,Husband,White,Male,3103,0,32,United-States\n",
    "24,Private,369667,Some-college,10,Never-married,Other-service,Unmarried,White,Female,0,0,40,United-States\n",
    "55,Private,104996,7th-8th,4,Married-civ-spouse,Craft-repair,Husband,White,Male,0,0,10,United-States\n",
    "65,Private,184454,HS-grad,9,Married-civ-spouse,Machine-op-inspct,Husband,White,Male,6418,0,40,United-States\n",
    "36,Federal-gov,212465,Bachelors,13,Married-civ-spouse,Adm-clerical,Husband,White,Male,0,0,40,United-States"
   ]
  },
  {
   "cell_type": "markdown",
   "metadata": {},
   "source": [
    "Optionally you can use preprocessed data too (-p):"
   ]
  },
  {
   "cell_type": "code",
   "execution_count": 3,
   "metadata": {
    "collapsed": false
   },
   "outputs": [
    {
     "data": {
      "text/html": [
       "<table border=\"1\" class=\"dataframe\">\n",
       "  <thead>\n",
       "    <tr style=\"text-align: right;\">\n",
       "      <th></th>\n",
       "      <th>label</th>\n",
       "      <th>score</th>\n",
       "    </tr>\n",
       "  </thead>\n",
       "  <tbody>\n",
       "    <tr>\n",
       "      <th>0</th>\n",
       "      <td>0</td>\n",
       "      <td>0.990934</td>\n",
       "    </tr>\n",
       "    <tr>\n",
       "      <th>1</th>\n",
       "      <td>0</td>\n",
       "      <td>0.788922</td>\n",
       "    </tr>\n",
       "  </tbody>\n",
       "</table>"
      ],
      "text/plain": [
       "<IPython.core.display.HTML object>"
      ]
     },
     "execution_count": 3,
     "metadata": {},
     "output_type": "execute_result"
    }
   ],
   "source": [
    "%%ml predict -m census.v1 -p\n",
    "{\"features\": {\"feature\": {\"native_country@i\": {\"int64List\": {\"value\": [40, 45]}}, \"native_country@v\": {\"floatList\": {\"value\": [1, 1]}}, \"target\": {\"int64List\": {\"value\": [0]}}, \"attrs\": {\"floatList\": {\"value\": [-0.7808219178082192, -1.0, -1.0, -0.19999999999999996, -0.7086198231482865, -0.20408163265306123, 0.0, 1.0, 0.0, 0.0, 0.0, 0.0, 0.0, 0.0, 0.0, 0.0, 0.0, 0.0, 0.0, 0.0, 0.0, 0.0, 0.0, 0.0, 0.0, 0.0, 1.0, 0.0, 0.0, 0.0, 0.0, 0.0, 0.0, 0.0, 0.0, 0.0, 1.0, 0.0, 0.0, 0.0, 0.0, 0.0, 0.0, 0.0, 0.0, 0.0, 1.0, 0.0, 0.0, 0.0, 0.0, 0.0, 1.0, 0.0, 0.0, 0.0, 1.0, 0.0, 0.0, 0.0, 0.0, 1.0, 0.0, 0.0, 0.0, 0.0]}}}}}\n",
    "{\"features\": {\"feature\": {\"native_country@i\": {\"int64List\": {\"value\": [40, 45]}}, \"native_country@v\": {\"floatList\": {\"value\": [1, 1]}}, \"target\": {\"int64List\": {\"value\": [0]}}, \"attrs\": {\"floatList\": {\"value\": [-0.4246575342465754, -1.0, -1.0, 0.06666666666666665, -0.8946917319786474, 0.0, 0.0, 0.0, 0.0, 0.0, 0.0, 0.0, 0.0, 0.0, 0.0, 0.0, 0.0, 1.0, 0.0, 0.0, 0.0, 0.0, 0.0, 0.0, 1.0, 0.0, 0.0, 0.0, 0.0, 0.0, 0.0, 0.0, 0.0, 0.0, 1.0, 0.0, 0.0, 0.0, 0.0, 0.0, 0.0, 0.0, 0.0, 0.0, 0.0, 0.0, 0.0, 0.0, 1.0, 1.0, 0.0, 0.0, 0.0, 0.0, 0.0, 0.0, 1.0, 0.0, 0.0, 0.0, 0.0, 1.0, 0.0, 0.0, 0.0, 0.0]}}}}}"
   ]
  },
  {
   "cell_type": "markdown",
   "metadata": {},
   "source": [
    "### Batch Prediction"
   ]
  },
  {
   "cell_type": "code",
   "execution_count": 4,
   "metadata": {
    "collapsed": false
   },
   "outputs": [
    {
     "data": {
      "text/html": [
       "\n",
       "    <div class=\"jobstatus\" id=\"1_145920143686\">\n",
       "    </div>\n",
       "    <script>\n",
       "      require(['extensions/job', 'element!1_145920143686', 'base/js/events', 'style!/static/extensions/job.css'],\n",
       "        function(job, dom, events) {\n",
       "          job.render(dom, events, '26e9dae4-be58-47bf-9f60-e84a79133120', 'local', 5, '', 'Prediction results are at /notebooks/.datalab/ml/census/v1/job3.<br>');\n",
       "        }\n",
       "      );\n",
       "    </script>"
      ],
      "text/plain": [
       "<IPython.core.display.HTML object>"
      ]
     },
     "execution_count": 4,
     "metadata": {},
     "output_type": "execute_result"
    }
   ],
   "source": [
    "%%ml predict -m census.v1 -b job3\n",
    "/content/mldata/preprocessed_predict"
   ]
  },
  {
   "cell_type": "code",
   "execution_count": null,
   "metadata": {
    "collapsed": true
   },
   "outputs": [],
   "source": []
  }
 ],
 "metadata": {
  "kernelspec": {
   "display_name": "Python 2",
   "language": "python",
   "name": "python2"
  },
  "language_info": {
   "codemirror_mode": {
    "name": "ipython",
    "version": 2
   },
   "file_extension": ".py",
   "mimetype": "text/x-python",
   "name": "python",
   "nbconvert_exporter": "python",
   "pygments_lexer": "ipython2",
   "version": "2.7.9"
  }
 },
 "nbformat": 4,
 "nbformat_minor": 0
}
