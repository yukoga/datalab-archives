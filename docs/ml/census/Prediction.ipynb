{
 "cells": [
  {
   "cell_type": "markdown",
   "metadata": {},
   "source": [
    "### Model Ready?\n",
    "First, let's make sure the model is ready (See if you have \"ready: true\"):"
   ]
  },
  {
   "cell_type": "code",
   "execution_count": 1,
   "metadata": {
    "collapsed": false
   },
   "outputs": [
    {
     "data": {
      "text/html": [
       "<pre>evalData:\n",
       "  files:\n",
       "    uris:\n",
       "    - gs://cloud-ml-users-mldata/sampledata/ml/census/preprocessed_test*\n",
       "model:\n",
       "  classification:\n",
       "    tensorflowGraph:\n",
       "      graphUri: gs://cloud-ml-users-mldata/sampledata/ml/census/census/v1/graph.json\n",
       "      session:\n",
       "        batchSize: 64\n",
       "        steps: 1000\n",
       "ready: true\n",
       "trainData:\n",
       "  files:\n",
       "    uris:\n",
       "    - gs://cloud-ml-users-mldata/sampledata/ml/census/preprocessed_train*\n",
       "trainingAnalysis:\n",
       "  classification:\n",
       "    error: 0.1622750461101532\n",
       "trainingOperationName: projects/cloud-ml-users/operations/c965c3aa-6846-480f-b6fe-05882e26ae6e\n",
       "</pre>"
      ],
      "text/plain": [
       "<IPython.core.display.HTML object>"
      ]
     },
     "execution_count": 1,
     "metadata": {},
     "output_type": "execute_result"
    }
   ],
   "source": [
    "%%ml describe -m census.v1 --cloud"
   ]
  },
  {
   "cell_type": "markdown",
   "metadata": {},
   "source": [
    "### Online Prediction"
   ]
  },
  {
   "cell_type": "code",
   "execution_count": 2,
   "metadata": {
    "collapsed": false
   },
   "outputs": [
    {
     "data": {
      "text/html": [
       "<table border=\"1\" class=\"dataframe\">\n",
       "  <thead>\n",
       "    <tr style=\"text-align: right;\">\n",
       "      <th></th>\n",
       "      <th>instance</th>\n",
       "      <th>label</th>\n",
       "      <th>score</th>\n",
       "    </tr>\n",
       "  </thead>\n",
       "  <tbody>\n",
       "    <tr>\n",
       "      <th>0</th>\n",
       "      <td>25,Private,226802,11th,7,Never-married,Machine...</td>\n",
       "      <td>0</td>\n",
       "      <td>0.992315</td>\n",
       "    </tr>\n",
       "    <tr>\n",
       "      <th>1</th>\n",
       "      <td>38,Private,89814,HS-grad,9,Married-civ-spouse,...</td>\n",
       "      <td>0</td>\n",
       "      <td>0.807431</td>\n",
       "    </tr>\n",
       "    <tr>\n",
       "      <th>2</th>\n",
       "      <td>28,Local-gov,336951,Assoc-acdm,12,Married-civ-...</td>\n",
       "      <td>0</td>\n",
       "      <td>0.731036</td>\n",
       "    </tr>\n",
       "    <tr>\n",
       "      <th>3</th>\n",
       "      <td>44,Private,160323,Some-college,10,Married-civ-...</td>\n",
       "      <td>0</td>\n",
       "      <td>0.675273</td>\n",
       "    </tr>\n",
       "    <tr>\n",
       "      <th>4</th>\n",
       "      <td>18,?,103497,Some-college,10,Never-married,?,Ow...</td>\n",
       "      <td>0</td>\n",
       "      <td>0.993155</td>\n",
       "    </tr>\n",
       "  </tbody>\n",
       "</table>"
      ],
      "text/plain": [
       "<IPython.core.display.HTML object>"
      ]
     },
     "execution_count": 2,
     "metadata": {},
     "output_type": "execute_result"
    }
   ],
   "source": [
    "%%ml predict -m census.v1 --cloud\n",
    "25,Private,226802,11th,7,Never-married,Machine-op-inspct,Own-child,Black,Male,0,0,40,United-States\n",
    "38,Private,89814,HS-grad,9,Married-civ-spouse,Farming-fishing,Husband,White,Male,0,0,50,United-States\n",
    "28,Local-gov,336951,Assoc-acdm,12,Married-civ-spouse,Protective-serv,Husband,White,Male,0,0,40,United-States\n",
    "44,Private,160323,Some-college,10,Married-civ-spouse,Machine-op-inspct,Husband,Black,Male,7688,0,40,United-States\n",
    "18,?,103497,Some-college,10,Never-married,?,Own-child,White,Female,0,0,30,United-States"
   ]
  },
  {
   "cell_type": "markdown",
   "metadata": {},
   "source": [
    "Optionally you can use preprocessed data too (-p):"
   ]
  },
  {
   "cell_type": "code",
   "execution_count": 3,
   "metadata": {
    "collapsed": false
   },
   "outputs": [
    {
     "data": {
      "text/html": [
       "<table border=\"1\" class=\"dataframe\">\n",
       "  <thead>\n",
       "    <tr style=\"text-align: right;\">\n",
       "      <th></th>\n",
       "      <th>label</th>\n",
       "      <th>score</th>\n",
       "    </tr>\n",
       "  </thead>\n",
       "  <tbody>\n",
       "    <tr>\n",
       "      <th>0</th>\n",
       "      <td>0</td>\n",
       "      <td>0.992315</td>\n",
       "    </tr>\n",
       "    <tr>\n",
       "      <th>1</th>\n",
       "      <td>0</td>\n",
       "      <td>0.807431</td>\n",
       "    </tr>\n",
       "    <tr>\n",
       "      <th>2</th>\n",
       "      <td>0</td>\n",
       "      <td>0.731036</td>\n",
       "    </tr>\n",
       "  </tbody>\n",
       "</table>"
      ],
      "text/plain": [
       "<IPython.core.display.HTML object>"
      ]
     },
     "execution_count": 3,
     "metadata": {},
     "output_type": "execute_result"
    }
   ],
   "source": [
    "%%ml predict -m census.v1 -p --cloud\n",
    "{\"features\": {\"feature\": {\"native_country@i\": {\"int64List\": {\"value\": [40, 45]}}, \"native_country@v\": {\"floatList\": {\"value\": [1, 1]}}, \"attrs\": {\"floatList\": {\"value\": [-0.7808219178082192, -1.0, -1.0, -0.19999999999999996, -0.7086198231482865, -0.20408163265306123, 0.0, 1.0, 0.0, 0.0, 0.0, 0.0, 0.0, 0.0, 0.0, 0.0, 0.0, 0.0, 0.0, 0.0, 0.0, 0.0, 0.0, 0.0, 0.0, 0.0, 1.0, 0.0, 0.0, 0.0, 0.0, 0.0, 0.0, 0.0, 0.0, 0.0, 1.0, 0.0, 0.0, 0.0, 0.0, 0.0, 0.0, 0.0, 0.0, 0.0, 1.0, 0.0, 0.0, 0.0, 0.0, 0.0, 1.0, 0.0, 0.0, 0.0, 1.0, 0.0, 0.0, 0.0, 0.0, 1.0, 0.0, 0.0, 0.0, 0.0]}}, \"target\": {\"int64List\": {\"value\": [0]}}}}}\n",
    "{\"features\": {\"feature\": {\"native_country@i\": {\"int64List\": {\"value\": [40, 45]}}, \"native_country@v\": {\"floatList\": {\"value\": [1, 1]}}, \"attrs\": {\"floatList\": {\"value\": [-0.4246575342465754, -1.0, -1.0, 0.06666666666666665, -0.8946917319786474, 0.0, 0.0, 0.0, 0.0, 0.0, 0.0, 0.0, 0.0, 0.0, 0.0, 0.0, 0.0, 1.0, 0.0, 0.0, 0.0, 0.0, 0.0, 0.0, 1.0, 0.0, 0.0, 0.0, 0.0, 0.0, 0.0, 0.0, 0.0, 0.0, 1.0, 0.0, 0.0, 0.0, 0.0, 0.0, 0.0, 0.0, 0.0, 0.0, 0.0, 0.0, 0.0, 0.0, 1.0, 1.0, 0.0, 0.0, 0.0, 0.0, 0.0, 0.0, 1.0, 0.0, 0.0, 0.0, 0.0, 1.0, 0.0, 0.0, 0.0, 0.0]}}, \"target\": {\"int64List\": {\"value\": [0]}}}}}\n",
    "{\"features\": {\"feature\": {\"native_country@i\": {\"int64List\": {\"value\": [40, 45]}}, \"native_country@v\": {\"floatList\": {\"value\": [1, 1]}}, \"attrs\": {\"floatList\": {\"value\": [-0.6986301369863014, -1.0, -1.0, 0.46666666666666656, -0.5590035451841187, -0.20408163265306123, 0.0, 0.0, 0.0, 0.0, 0.0, 0.0, 0.0, 1.0, 0.0, 0.0, 0.0, 0.0, 0.0, 0.0, 0.0, 0.0, 0.0, 0.0, 1.0, 0.0, 0.0, 0.0, 0.0, 0.0, 0.0, 0.0, 0.0, 0.0, 0.0, 0.0, 0.0, 0.0, 0.0, 0.0, 1.0, 0.0, 0.0, 0.0, 0.0, 0.0, 0.0, 0.0, 1.0, 1.0, 0.0, 0.0, 0.0, 0.0, 0.0, 0.0, 1.0, 0.0, 0.0, 1.0, 0.0, 0.0, 0.0, 0.0, 0.0, 0.0]}}, \"target\": {\"int64List\": {\"value\": [0]}}}}}"
   ]
  },
  {
   "cell_type": "markdown",
   "metadata": {},
   "source": [
    "### Batch Prediction"
   ]
  },
  {
   "cell_type": "markdown",
   "metadata": {},
   "source": [
    "Use the preprocessed prediction data:"
   ]
  },
  {
   "cell_type": "code",
   "execution_count": 7,
   "metadata": {
    "collapsed": true
   },
   "outputs": [],
   "source": [
    "# Some code to determine a unique bucket name for the purposes of the sample\n",
    "from gcp.context import Context\n",
    "\n",
    "project = Context.default().project_id\n",
    "ml_bucket_name = project + '-mldata'\n",
    "ml_bucket_path = 'gs://' + ml_bucket_name\n",
    "\n",
    "predict_data_path = ml_bucket_path + '/sampledata/ml/census/preprocessed_predict*'"
   ]
  },
  {
   "cell_type": "code",
   "execution_count": null,
   "metadata": {
    "collapsed": false
   },
   "outputs": [],
   "source": [
    "%%ml predict -m census.v1 -b job3 --cloud\n",
    "$predict_data_path"
   ]
  }
 ],
 "metadata": {
  "kernelspec": {
   "display_name": "Python 2",
   "language": "python",
   "name": "python2"
  },
  "language_info": {
   "codemirror_mode": {
    "name": "ipython",
    "version": 2
   },
   "file_extension": ".py",
   "mimetype": "text/x-python",
   "name": "python",
   "nbconvert_exporter": "python",
   "pygments_lexer": "ipython2",
   "version": "2.7.9"
  }
 },
 "nbformat": 4,
 "nbformat_minor": 0
}
