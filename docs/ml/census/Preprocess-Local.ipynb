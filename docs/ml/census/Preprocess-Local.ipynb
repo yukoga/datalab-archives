{
 "cells": [
  {
   "cell_type": "markdown",
   "metadata": {},
   "source": [
    "### Copy Training and Prediction Data"
   ]
  },
  {
   "cell_type": "code",
   "execution_count": 1,
   "metadata": {
    "collapsed": true
   },
   "outputs": [],
   "source": [
    "%%bash\n",
    "mkdir -p /content/mldata\n",
    "wget https://storage.googleapis.com/cloud-datalab/sampledata/ml/census/census_train.csv -P /content/mldata -q\n",
    "wget https://storage.googleapis.com/cloud-datalab/sampledata/ml/census/census_test.csv -P /content/mldata -q\n",
    "wget https://storage.googleapis.com/cloud-datalab/sampledata/ml/census/census_predict.csv -P /content/mldata -q"
   ]
  },
  {
   "cell_type": "markdown",
   "metadata": {},
   "source": [
    "### Browse and Explore Your CSV Data"
   ]
  },
  {
   "cell_type": "markdown",
   "metadata": {},
   "source": [
    "View several lines from head. \"columns\" in cell is optional. Without it, the names will be col0, col1...coln."
   ]
  },
  {
   "cell_type": "code",
   "execution_count": 2,
   "metadata": {
    "collapsed": false
   },
   "outputs": [
    {
     "data": {
      "text/html": [
       "<table border=\"1\" class=\"dataframe\">\n",
       "  <thead>\n",
       "    <tr style=\"text-align: right;\">\n",
       "      <th>age</th>\n",
       "      <th>capital-gain</th>\n",
       "      <th>capital-loss</th>\n",
       "      <th>education</th>\n",
       "      <th>education-num</th>\n",
       "      <th>fnlwgt</th>\n",
       "      <th>hours-per-week</th>\n",
       "      <th>label</th>\n",
       "      <th>marital-status</th>\n",
       "      <th>native-country</th>\n",
       "      <th>occupation</th>\n",
       "      <th>race</th>\n",
       "      <th>relationship</th>\n",
       "      <th>sex</th>\n",
       "      <th>workclass</th>\n",
       "    </tr>\n",
       "  </thead>\n",
       "  <tbody>\n",
       "    <tr>\n",
       "      <td>39</td>\n",
       "      <td>2174</td>\n",
       "      <td>0</td>\n",
       "      <td>Bachelors</td>\n",
       "      <td>13</td>\n",
       "      <td>77516</td>\n",
       "      <td>40</td>\n",
       "      <td>&lt;=50K</td>\n",
       "      <td>Never-married</td>\n",
       "      <td>United-States</td>\n",
       "      <td>Adm-clerical</td>\n",
       "      <td>White</td>\n",
       "      <td>Not-in-family</td>\n",
       "      <td>Male</td>\n",
       "      <td>State-gov</td>\n",
       "    </tr>\n",
       "    <tr>\n",
       "      <td>50</td>\n",
       "      <td>0</td>\n",
       "      <td>0</td>\n",
       "      <td>Bachelors</td>\n",
       "      <td>13</td>\n",
       "      <td>83311</td>\n",
       "      <td>13</td>\n",
       "      <td>&lt;=50K</td>\n",
       "      <td>Married-civ-spouse</td>\n",
       "      <td>United-States</td>\n",
       "      <td>Exec-managerial</td>\n",
       "      <td>White</td>\n",
       "      <td>Husband</td>\n",
       "      <td>Male</td>\n",
       "      <td>Self-emp-not-inc</td>\n",
       "    </tr>\n",
       "    <tr>\n",
       "      <td>38</td>\n",
       "      <td>0</td>\n",
       "      <td>0</td>\n",
       "      <td>HS-grad</td>\n",
       "      <td>9</td>\n",
       "      <td>215646</td>\n",
       "      <td>40</td>\n",
       "      <td>&lt;=50K</td>\n",
       "      <td>Divorced</td>\n",
       "      <td>United-States</td>\n",
       "      <td>Handlers-cleaners</td>\n",
       "      <td>White</td>\n",
       "      <td>Not-in-family</td>\n",
       "      <td>Male</td>\n",
       "      <td>Private</td>\n",
       "    </tr>\n",
       "    <tr>\n",
       "      <td>53</td>\n",
       "      <td>0</td>\n",
       "      <td>0</td>\n",
       "      <td>11th</td>\n",
       "      <td>7</td>\n",
       "      <td>234721</td>\n",
       "      <td>40</td>\n",
       "      <td>&lt;=50K</td>\n",
       "      <td>Married-civ-spouse</td>\n",
       "      <td>United-States</td>\n",
       "      <td>Handlers-cleaners</td>\n",
       "      <td>Black</td>\n",
       "      <td>Husband</td>\n",
       "      <td>Male</td>\n",
       "      <td>Private</td>\n",
       "    </tr>\n",
       "    <tr>\n",
       "      <td>28</td>\n",
       "      <td>0</td>\n",
       "      <td>0</td>\n",
       "      <td>Bachelors</td>\n",
       "      <td>13</td>\n",
       "      <td>338409</td>\n",
       "      <td>40</td>\n",
       "      <td>&lt;=50K</td>\n",
       "      <td>Married-civ-spouse</td>\n",
       "      <td>Cuba</td>\n",
       "      <td>Prof-specialty</td>\n",
       "      <td>Black</td>\n",
       "      <td>Wife</td>\n",
       "      <td>Female</td>\n",
       "      <td>Private</td>\n",
       "    </tr>\n",
       "  </tbody>\n",
       "</table>"
      ],
      "text/plain": [
       "<IPython.core.display.HTML object>"
      ]
     },
     "execution_count": 2,
     "metadata": {},
     "output_type": "execute_result"
    }
   ],
   "source": [
    "%%csv view -i /content/mldata/census_train.csv\n",
    "columns: label, age, workclass, fnlwgt, education, education-num, marital-status, occupation, relationship, race, sex, capital-gain, capital-loss, hours-per-week, native-country"
   ]
  },
  {
   "cell_type": "markdown",
   "metadata": {},
   "source": [
    "Get stats of columns (--profile). -n is number of lines to read, and is optional (default to 5)."
   ]
  },
  {
   "cell_type": "code",
   "execution_count": null,
   "metadata": {
    "collapsed": false
   },
   "outputs": [],
   "source": [
    "%%csv view -i /content/mldata/census_train.csv --profile -n 200\n",
    "columns: label, age, workclass, fnlwgt, education, education-num, marital-status, occupation, relationship, race, sex, capital-gain, capital-loss, hours-per-week, native-country"
   ]
  },
  {
   "cell_type": "markdown",
   "metadata": {},
   "source": [
    "### Infer Schema and Generate Feature Class by Running\n",
    "Run the following command and it will replace cell input with feature class definition in next cell.\n",
    "Note that --target (and --key) can be either a column name, or an index into the columns (0 based, -1 means last)."
   ]
  },
  {
   "cell_type": "code",
   "execution_count": null,
   "metadata": {
    "collapsed": false
   },
   "outputs": [],
   "source": [
    "%%ml features --csv /content/mldata/census_train.csv --target label\n",
    "columns: label, age, workclass, fnlwgt, education, education-num, marital-status, occupation, relationship, race, sex, capital-gain, capital-loss, hours-per-week, native-country"
   ]
  },
  {
   "cell_type": "markdown",
   "metadata": {},
   "source": [
    "### Define feature class\n",
    "Now the feature class is generated. Modify it as appropriate, such as converting a column from text to categorical. Then execute the cell."
   ]
  },
  {
   "cell_type": "code",
   "execution_count": 4,
   "metadata": {
    "collapsed": false
   },
   "outputs": [],
   "source": [
    "%%tensorflow feature\n",
    "\n",
    "import google.cloud.ml.features as features\n",
    "\n",
    "\n",
    "class CsvFeatures(features.CsvFeatureSet):\n",
    "  \"\"\" This class is generated from command line:\n",
    "         %%ml csv-schema ...\n",
    "         Please modify it as appropriate!!!\n",
    "  \"\"\"\n",
    "\n",
    "  def __init__(self):\n",
    "    columns = 'label','age','workclass','fnlwgt','education','education-num','marital-status','occupation','relationship','race','sex','capital-gain','capital-loss','hours-per-week','native-country'\n",
    "    super(CsvFeatures, self).__init__(columns)\n",
    "\n",
    "  target = features.target('label').classification()\n",
    "  attrs = [\n",
    "      features.numeric('age').min_max_scale(-1.0, 1.0),\n",
    "      features.numeric('capital-gain').min_max_scale(-1.0, 1.0),\n",
    "      features.numeric('capital-loss').min_max_scale(-1.0, 1.0),\n",
    "      features.numeric('education-num').min_max_scale(-1.0, 1.0),\n",
    "      features.numeric('fnlwgt').min_max_scale(-1.0, 1.0),\n",
    "      features.numeric('hours-per-week').min_max_scale(-1.0, 1.0),\n",
    "      features.categorical('education').one_of_k(),\n",
    "      features.categorical('marital-status').one_of_k(),\n",
    "      features.categorical('occupation').one_of_k(),\n",
    "      features.categorical('race').one_of_k(),\n",
    "      features.categorical('relationship').one_of_k(),\n",
    "      features.categorical('sex').one_of_k(),\n",
    "      features.categorical('workclass').one_of_k(),\n",
    "  ]\n",
    "  native_country = features.text('native-country').bag_of_words(vocab_size=10000)\n"
   ]
  },
  {
   "cell_type": "markdown",
   "metadata": {},
   "source": [
    "### Preprocess Training and Testing Data\n",
    "Output: preprocessed train data, test data, and metadata generated from train data"
   ]
  },
  {
   "cell_type": "code",
   "execution_count": 5,
   "metadata": {
    "collapsed": false
   },
   "outputs": [
    {
     "data": {
      "text/html": [
       "\n",
       "    <div class=\"jobstatus\" id=\"1_145974307592\">\n",
       "    </div>\n",
       "    <script>\n",
       "      require(['extensions/job', 'element!1_145974307592', 'base/js/events', 'style!/static/extensions/job.css'],\n",
       "        function(job, dom, events) {\n",
       "          job.render(dom, events, '09bc12df-a8c0-4ab6-ac0f-a1af1cc151c3', 'local', 5, '', 'Preprocessed files are at /content/mldata/.<br>You can copy the dataset definition:<br><br>%%ml dataset --name please_name_your_dataset<br>train: /content/mldata/preprocessed_train<br>test: /content/mldata/preprocessed_test<br>metadata: /content/mldata/metadata.yaml');\n",
       "        }\n",
       "      );\n",
       "    </script>"
      ],
      "text/plain": [
       "<IPython.core.display.HTML object>"
      ]
     },
     "execution_count": 5,
     "metadata": {},
     "output_type": "execute_result"
    }
   ],
   "source": [
    "%%ml preprocess -o /content/mldata/\n",
    "train: /content/mldata/census_train.csv\n",
    "test: /content/mldata/census_test.csv"
   ]
  },
  {
   "cell_type": "markdown",
   "metadata": {},
   "source": [
    "### Take a peek at metadata generated"
   ]
  },
  {
   "cell_type": "code",
   "execution_count": 10,
   "metadata": {
    "collapsed": false
   },
   "outputs": [
    {
     "name": "stdout",
     "output_type": "stream",
     "text": [
      "columns:\n",
      "  age:\n",
      "    max: 90.0\n",
      "    mean: 38.58164675532078\n",
      "    min: 17.0\n",
      "    name: age\n",
      "    scale:\n",
      "      max: 1.0\n",
      "      min: -1.0\n",
      "    transform: scale\n",
      "    type: numeric\n",
      "  capital-gain:\n",
      "    max: 99999.0\n",
      "    mean: 1077.6488437087312\n",
      "    min: 0.0\n",
      "    name: capital-gain\n",
      "    scale:\n",
      "      max: 1.0\n",
      "      min: -1.0\n",
      "    transform: scale\n",
      "    type: numeric\n",
      "  capital-loss:\n",
      "    max: 4356.0\n",
      "    mean: 87.303829734959\n",
      "    min: 0.0\n",
      "    name: capital-loss\n",
      "    scale:\n",
      "      max: 1.0\n",
      "      min: -1.0\n",
      "    transform: scale\n",
      "    type: numeric\n",
      "  education:\n",
      "    items:\n",
      "      10th: 0\n",
      "      11th: 1\n",
      "      12th: 2\n",
      "      1st-4th: 3\n",
      "      5th-6th: 4\n",
      "      7th-8th: 5\n",
      "      9th: 6\n",
      "      Assoc-acdm: 7\n",
      "      Assoc-voc: 8\n",
      "      Bachelors: 9\n",
      "      Doctorate: 10\n",
      "      HS-grad: 11\n",
      "      Masters: 12\n",
      "      Preschool: 13\n",
      "      Prof-school: 14\n",
      "      Some-college: 15\n",
      "    name: education\n",
      "    transform: one_of_k\n",
      "    type: categorical\n",
      "  education-num:\n",
      "    max: 16.0\n",
      "    mean: 10.0806793403151\n",
      "    min: 1.0\n",
      "    name: education-num\n",
      "    scale:\n",
      "      max: 1.0\n",
      "      min: -1.0\n",
      "    transform: scale\n",
      "    type: numeric\n",
      "  fnlwgt:\n",
      "    max: 1484705.0\n",
      "    mean: 189778.36651208502\n",
      "    min: 12285.0\n",
      "    name: fnlwgt\n",
      "    scale:\n",
      "      max: 1.0\n",
      "      min: -1.0\n",
      "    transform: scale\n",
      "    type: numeric\n",
      "  hours-per-week:\n",
      "    max: 99.0\n",
      "    mean: 40.437455852092995\n",
      "    min: 1.0\n",
      "    name: hours-per-week\n",
      "    scale:\n",
      "      max: 1.0\n",
      "      min: -1.0\n",
      "    transform: scale\n",
      "    type: numeric\n",
      "  label:\n",
      "    items:\n",
      "      <=50K: 0\n",
      "      '>50K': 1\n",
      "    name: label\n",
      "    type: target\n",
      "  marital-status:\n",
      "    items:\n",
      "      Divorced: 0\n",
      "      Married-AF-spouse: 1\n",
      "      Married-civ-spouse: 2\n",
      "      Married-spouse-absent: 3\n",
      "      Never-married: 4\n",
      "      Separated: 5\n",
      "      Widowed: 6\n",
      "    name: marital-status\n",
      "    transform: one_of_k\n",
      "    type: categorical\n",
      "  native-country:\n",
      "    bag_of_words:\n",
      "      buckets: 1\n",
      "      counts: false\n",
      "      vocab_size: 10000\n",
      "    name: native-country\n",
      "    transform: bag_of_words\n",
      "    type: text\n",
      "    vocab:\n",
      "      cambodia: 0\n",
      "      canada: 1\n",
      "      china: 2\n",
      "      columbia: 3\n",
      "      cuba: 4\n",
      "      dominican: 5\n",
      "      ecuador: 6\n",
      "      england: 7\n",
      "      etc: 8\n",
      "      france: 9\n",
      "      germany: 10\n",
      "      greece: 11\n",
      "      guam: 12\n",
      "      guatemala: 13\n",
      "      haiti: 14\n",
      "      holand: 15\n",
      "      honduras: 16\n",
      "      hong: 17\n",
      "      hungary: 18\n",
      "      india: 19\n",
      "      iran: 20\n",
      "      ireland: 21\n",
      "      italy: 22\n",
      "      jamaica: 23\n",
      "      japan: 24\n",
      "      laos: 25\n",
      "      mexico: 26\n",
      "      netherlands: 27\n",
      "      nicaragua: 28\n",
      "      outlying: 29\n",
      "      peru: 30\n",
      "      philippines: 31\n",
      "      poland: 32\n",
      "      portugal: 33\n",
      "      puerto: 34\n",
      "      republic: 35\n",
      "      rico: 36\n",
      "      salvador: 37\n",
      "      scotland: 38\n",
      "      south: 39\n",
      "      states: 40\n",
      "      taiwan: 41\n",
      "      thailand: 42\n",
      "      tobago: 43\n",
      "      trinadad: 44\n",
      "      united: 45\n",
      "      usvi: 46\n",
      "      vietnam: 47\n",
      "      yugoslavia: 48\n",
      "  occupation:\n",
      "    items:\n",
      "      '?': 0\n",
      "      Adm-clerical: 1\n",
      "      Armed-Forces: 2\n",
      "      Craft-repair: 3\n",
      "      Exec-managerial: 4\n",
      "      Farming-fishing: 5\n",
      "      Handlers-cleaners: 6\n",
      "      Machine-op-inspct: 7\n",
      "      Other-service: 8\n",
      "      Priv-house-serv: 9\n",
      "      Prof-specialty: 10\n",
      "      Protective-serv: 11\n",
      "      Sales: 12\n",
      "      Tech-support: 13\n",
      "      Transport-moving: 14\n",
      "    name: occupation\n",
      "    transform: one_of_k\n",
      "    type: categorical\n",
      "  race:\n",
      "    items:\n",
      "      Amer-Indian-Eskimo: 0\n",
      "      Asian-Pac-Islander: 1\n",
      "      Black: 2\n",
      "      Other: 3\n",
      "      White: 4\n",
      "    name: race\n",
      "    transform: one_of_k\n",
      "    type: categorical\n",
      "  relationship:\n",
      "    items:\n",
      "      Husband: 0\n",
      "      Not-in-family: 1\n",
      "      Other-relative: 2\n",
      "      Own-child: 3\n",
      "      Unmarried: 4\n",
      "      Wife: 5\n",
      "    name: relationship\n",
      "    transform: one_of_k\n",
      "    type: categorical\n",
      "  sex:\n",
      "    items:\n",
      "      Female: 0\n",
      "      Male: 1\n",
      "    name: sex\n",
      "    transform: one_of_k\n",
      "    type: categorical\n",
      "  workclass:\n",
      "    items:\n",
      "      '?': 0\n",
      "      Federal-gov: 1\n",
      "      Local-gov: 2\n",
      "      Never-worked: 3\n",
      "      Private: 4\n",
      "      Self-emp-inc: 5\n",
      "      Self-emp-not-inc: 6\n",
      "      State-gov: 7\n",
      "      Without-pay: 8\n",
      "    name: workclass\n",
      "    transform: one_of_k\n",
      "    type: categorical\n",
      "csv:\n",
      "  headers:\n",
      "  - label\n",
      "  - age\n",
      "  - workclass\n",
      "  - fnlwgt\n",
      "  - education\n",
      "  - education-num\n",
      "  - marital-status\n",
      "  - occupation\n",
      "  - relationship\n",
      "  - race\n",
      "  - sex\n",
      "  - capital-gain\n",
      "  - capital-loss\n",
      "  - hours-per-week\n",
      "  - native-country\n",
      "features:\n",
      "  attrs:\n",
      "    columns:\n",
      "    - age\n",
      "    - capital-gain\n",
      "    - capital-loss\n",
      "    - education-num\n",
      "    - fnlwgt\n",
      "    - hours-per-week\n",
      "    - education\n",
      "    - marital-status\n",
      "    - occupation\n",
      "    - race\n",
      "    - relationship\n",
      "    - sex\n",
      "    - workclass\n",
      "    dtype: float\n",
      "    name: attrs\n",
      "    size: 66\n",
      "    type: dense\n",
      "  native_country:\n",
      "    columns:\n",
      "    - native-country\n",
      "    dtype: float\n",
      "    name: native_country\n",
      "    size: 50\n",
      "    type: sparse\n",
      "  target:\n",
      "    columns:\n",
      "    - label\n",
      "    dtype: int64\n",
      "    name: target\n",
      "    size: 1\n",
      "    type: dense\n",
      "format: csv\n",
      "scenario: classification\n",
      "stats:\n",
      "  labels: 2\n",
      "\n"
     ]
    }
   ],
   "source": [
    "%%bash\n",
    "cat /content/mldata/metadata.yaml"
   ]
  },
  {
   "cell_type": "markdown",
   "metadata": {},
   "source": [
    "### Preprocessing Prediction Data\n",
    "Using the metadata we generated to preprocess more data."
   ]
  },
  {
   "cell_type": "code",
   "execution_count": 11,
   "metadata": {
    "collapsed": false
   },
   "outputs": [
    {
     "data": {
      "text/html": [
       "\n",
       "    <div class=\"jobstatus\" id=\"3_145905805316\">\n",
       "    </div>\n",
       "    <script>\n",
       "      require(['extensions/job', 'element!3_145905805316', 'base/js/events', 'style!/static/extensions/job.css'],\n",
       "        function(job, dom, events) {\n",
       "          job.render(dom, events, '554bc533-04ab-4ea3-941e-b17b72dc932d', 'local', 5, '', 'Preprocessed files are at /content/mldata/.<br>');\n",
       "        }\n",
       "      );\n",
       "    </script>"
      ],
      "text/plain": [
       "<IPython.core.display.HTML object>"
      ]
     },
     "execution_count": 11,
     "metadata": {},
     "output_type": "execute_result"
    }
   ],
   "source": [
    "%%ml preprocess -o /content/mldata/\n",
    "predict: /content/mldata/census_predict.csv\n",
    "metadata: /content/mldata/metadata.yaml"
   ]
  },
  {
   "cell_type": "markdown",
   "metadata": {},
   "source": [
    "### Now take a look at all data we preprocessed"
   ]
  },
  {
   "cell_type": "code",
   "execution_count": 12,
   "metadata": {
    "collapsed": false
   },
   "outputs": [
    {
     "name": "stdout",
     "output_type": "stream",
     "text": [
      "census_predict.csv\n",
      "census_test.csv\n",
      "census_train.csv\n",
      "metadata.yaml\n",
      "preprocessed_predict\n",
      "preprocessed_test\n",
      "preprocessed_train\n"
     ]
    }
   ],
   "source": [
    "%%bash\n",
    "ls /content/mldata"
   ]
  },
  {
   "cell_type": "code",
   "execution_count": null,
   "metadata": {
    "collapsed": true
   },
   "outputs": [],
   "source": []
  }
 ],
 "metadata": {
  "kernelspec": {
   "display_name": "Python 2",
   "language": "python",
   "name": "python2"
  },
  "language_info": {
   "codemirror_mode": {
    "name": "ipython",
    "version": 2
   },
   "file_extension": ".py",
   "mimetype": "text/x-python",
   "name": "python",
   "nbconvert_exporter": "python",
   "pygments_lexer": "ipython2",
   "version": "2.7.9"
  }
 },
 "nbformat": 4,
 "nbformat_minor": 0
}
