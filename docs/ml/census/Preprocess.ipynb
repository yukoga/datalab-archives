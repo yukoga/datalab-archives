{
 "cells": [
  {
   "cell_type": "markdown",
   "metadata": {},
   "source": [
    "### Copy Training and Prediction Data\n",
    "Create Storage bucket to hold training data."
   ]
  },
  {
   "cell_type": "code",
   "execution_count": 1,
   "metadata": {
    "collapsed": false
   },
   "outputs": [],
   "source": [
    "# Some code to determine a unique bucket name for the purposes of the sample\n",
    "from gcp.context import Context\n",
    "\n",
    "project = Context.default().project_id\n",
    "ml_bucket_name = project + '-mldata'\n",
    "ml_bucket_path = 'gs://' + ml_bucket_name\n",
    "\n",
    "train_data_path = ml_bucket_path + '/sampledata/ml/census/census_train.csv'\n",
    "test_data_path = ml_bucket_path + '/sampledata/ml/census/census_test.csv'\n",
    "predict_data_path = ml_bucket_path + '/sampledata/ml/census/census_predict.csv'\n",
    "output_path = ml_bucket_path + '/sampledata/ml/census/'\n",
    "metadata_path = ml_bucket_path + '/sampledata/ml/census/metadata.yaml'"
   ]
  },
  {
   "cell_type": "code",
   "execution_count": 2,
   "metadata": {
    "collapsed": false
   },
   "outputs": [],
   "source": [
    "%%storage create --bucket $ml_bucket_path"
   ]
  },
  {
   "cell_type": "markdown",
   "metadata": {},
   "source": [
    "Now copy data over."
   ]
  },
  {
   "cell_type": "code",
   "execution_count": 3,
   "metadata": {
    "collapsed": false
   },
   "outputs": [],
   "source": [
    "%%storage copy --source gs://cloud-datalab/sampledata/ml/census/* --destination $ml_bucket_path"
   ]
  },
  {
   "cell_type": "code",
   "execution_count": null,
   "metadata": {
    "collapsed": false
   },
   "outputs": [],
   "source": [
    "%%storage list --bucket $ml_bucket_path"
   ]
  },
  {
   "cell_type": "markdown",
   "metadata": {},
   "source": [
    "### Browse and Explore Your CSV Data"
   ]
  },
  {
   "cell_type": "code",
   "execution_count": 8,
   "metadata": {
    "collapsed": false
   },
   "outputs": [
    {
     "data": {
      "text/html": [
       "<table border=\"1\" class=\"dataframe\">\n",
       "  <thead>\n",
       "    <tr style=\"text-align: right;\">\n",
       "      <th>age</th>\n",
       "      <th>capital-gain</th>\n",
       "      <th>capital-loss</th>\n",
       "      <th>education</th>\n",
       "      <th>education-num</th>\n",
       "      <th>fnlwgt</th>\n",
       "      <th>hours-per-week</th>\n",
       "      <th>label</th>\n",
       "      <th>marital-status</th>\n",
       "      <th>native-country</th>\n",
       "      <th>occupation</th>\n",
       "      <th>race</th>\n",
       "      <th>relationship</th>\n",
       "      <th>sex</th>\n",
       "      <th>workclass</th>\n",
       "    </tr>\n",
       "  </thead>\n",
       "  <tbody>\n",
       "    <tr>\n",
       "      <td>39</td>\n",
       "      <td>2174</td>\n",
       "      <td>0</td>\n",
       "      <td>Bachelors</td>\n",
       "      <td>13</td>\n",
       "      <td>77516</td>\n",
       "      <td>40</td>\n",
       "      <td>&lt;=50K</td>\n",
       "      <td>Never-married</td>\n",
       "      <td>United-States</td>\n",
       "      <td>Adm-clerical</td>\n",
       "      <td>White</td>\n",
       "      <td>Not-in-family</td>\n",
       "      <td>Male</td>\n",
       "      <td>State-gov</td>\n",
       "    </tr>\n",
       "    <tr>\n",
       "      <td>50</td>\n",
       "      <td>0</td>\n",
       "      <td>0</td>\n",
       "      <td>Bachelors</td>\n",
       "      <td>13</td>\n",
       "      <td>83311</td>\n",
       "      <td>13</td>\n",
       "      <td>&lt;=50K</td>\n",
       "      <td>Married-civ-spouse</td>\n",
       "      <td>United-States</td>\n",
       "      <td>Exec-managerial</td>\n",
       "      <td>White</td>\n",
       "      <td>Husband</td>\n",
       "      <td>Male</td>\n",
       "      <td>Self-emp-not-inc</td>\n",
       "    </tr>\n",
       "    <tr>\n",
       "      <td>38</td>\n",
       "      <td>0</td>\n",
       "      <td>0</td>\n",
       "      <td>HS-grad</td>\n",
       "      <td>9</td>\n",
       "      <td>215646</td>\n",
       "      <td>40</td>\n",
       "      <td>&lt;=50K</td>\n",
       "      <td>Divorced</td>\n",
       "      <td>United-States</td>\n",
       "      <td>Handlers-cleaners</td>\n",
       "      <td>White</td>\n",
       "      <td>Not-in-family</td>\n",
       "      <td>Male</td>\n",
       "      <td>Private</td>\n",
       "    </tr>\n",
       "    <tr>\n",
       "      <td>53</td>\n",
       "      <td>0</td>\n",
       "      <td>0</td>\n",
       "      <td>11th</td>\n",
       "      <td>7</td>\n",
       "      <td>234721</td>\n",
       "      <td>40</td>\n",
       "      <td>&lt;=50K</td>\n",
       "      <td>Married-civ-spouse</td>\n",
       "      <td>United-States</td>\n",
       "      <td>Handlers-cleaners</td>\n",
       "      <td>Black</td>\n",
       "      <td>Husband</td>\n",
       "      <td>Male</td>\n",
       "      <td>Private</td>\n",
       "    </tr>\n",
       "    <tr>\n",
       "      <td>28</td>\n",
       "      <td>0</td>\n",
       "      <td>0</td>\n",
       "      <td>Bachelors</td>\n",
       "      <td>13</td>\n",
       "      <td>338409</td>\n",
       "      <td>40</td>\n",
       "      <td>&lt;=50K</td>\n",
       "      <td>Married-civ-spouse</td>\n",
       "      <td>Cuba</td>\n",
       "      <td>Prof-specialty</td>\n",
       "      <td>Black</td>\n",
       "      <td>Wife</td>\n",
       "      <td>Female</td>\n",
       "      <td>Private</td>\n",
       "    </tr>\n",
       "    <tr>\n",
       "      <td>37</td>\n",
       "      <td>0</td>\n",
       "      <td>0</td>\n",
       "      <td>Masters</td>\n",
       "      <td>14</td>\n",
       "      <td>284582</td>\n",
       "      <td>40</td>\n",
       "      <td>&lt;=50K</td>\n",
       "      <td>Married-civ-spouse</td>\n",
       "      <td>United-States</td>\n",
       "      <td>Exec-managerial</td>\n",
       "      <td>White</td>\n",
       "      <td>Wife</td>\n",
       "      <td>Female</td>\n",
       "      <td>Private</td>\n",
       "    </tr>\n",
       "    <tr>\n",
       "      <td>49</td>\n",
       "      <td>0</td>\n",
       "      <td>0</td>\n",
       "      <td>9th</td>\n",
       "      <td>5</td>\n",
       "      <td>160187</td>\n",
       "      <td>16</td>\n",
       "      <td>&lt;=50K</td>\n",
       "      <td>Married-spouse-absent</td>\n",
       "      <td>Jamaica</td>\n",
       "      <td>Other-service</td>\n",
       "      <td>Black</td>\n",
       "      <td>Not-in-family</td>\n",
       "      <td>Female</td>\n",
       "      <td>Private</td>\n",
       "    </tr>\n",
       "    <tr>\n",
       "      <td>52</td>\n",
       "      <td>0</td>\n",
       "      <td>0</td>\n",
       "      <td>HS-grad</td>\n",
       "      <td>9</td>\n",
       "      <td>209642</td>\n",
       "      <td>45</td>\n",
       "      <td>&gt;50K</td>\n",
       "      <td>Married-civ-spouse</td>\n",
       "      <td>United-States</td>\n",
       "      <td>Exec-managerial</td>\n",
       "      <td>White</td>\n",
       "      <td>Husband</td>\n",
       "      <td>Male</td>\n",
       "      <td>Self-emp-not-inc</td>\n",
       "    </tr>\n",
       "    <tr>\n",
       "      <td>31</td>\n",
       "      <td>14084</td>\n",
       "      <td>0</td>\n",
       "      <td>Masters</td>\n",
       "      <td>14</td>\n",
       "      <td>45781</td>\n",
       "      <td>50</td>\n",
       "      <td>&gt;50K</td>\n",
       "      <td>Never-married</td>\n",
       "      <td>United-States</td>\n",
       "      <td>Prof-specialty</td>\n",
       "      <td>White</td>\n",
       "      <td>Not-in-family</td>\n",
       "      <td>Female</td>\n",
       "      <td>Private</td>\n",
       "    </tr>\n",
       "    <tr>\n",
       "      <td>42</td>\n",
       "      <td>5178</td>\n",
       "      <td>0</td>\n",
       "      <td>Bachelors</td>\n",
       "      <td>13</td>\n",
       "      <td>159449</td>\n",
       "      <td>40</td>\n",
       "      <td>&gt;50K</td>\n",
       "      <td>Married-civ-spouse</td>\n",
       "      <td>United-States</td>\n",
       "      <td>Exec-managerial</td>\n",
       "      <td>White</td>\n",
       "      <td>Husband</td>\n",
       "      <td>Male</td>\n",
       "      <td>Private</td>\n",
       "    </tr>\n",
       "  </tbody>\n",
       "</table>"
      ],
      "text/plain": [
       "<IPython.core.display.HTML object>"
      ]
     },
     "execution_count": 8,
     "metadata": {},
     "output_type": "execute_result"
    }
   ],
   "source": [
    "%%csv view -i $train_data_path -n 10\n",
    "columns: label, age, workclass, fnlwgt, education, education-num, marital-status, occupation, relationship, race, sex, capital-gain, capital-loss, hours-per-week, native-country"
   ]
  },
  {
   "cell_type": "markdown",
   "metadata": {},
   "source": [
    "Get stats of columns (--profile). -n is number of lines to read, and is optional (default to 5)."
   ]
  },
  {
   "cell_type": "code",
   "execution_count": null,
   "metadata": {
    "collapsed": false
   },
   "outputs": [],
   "source": [
    "%%csv view -i $train_data_path --profile -n 200\n",
    "columns: label, age, workclass, fnlwgt, education, education-num, marital-status, occupation, relationship, race, sex, capital-gain, capital-loss, hours-per-week, native-country"
   ]
  },
  {
   "cell_type": "markdown",
   "metadata": {},
   "source": [
    "### Infer Schema and Generate Feature Class by Running\n",
    "Run the following command and it will replace cell input with feature class definition in next cell.\n",
    "Note that --target (and --key) can be either a column name, or an index into the columns (0 based, -1 means last)."
   ]
  },
  {
   "cell_type": "code",
   "execution_count": null,
   "metadata": {
    "collapsed": true
   },
   "outputs": [],
   "source": [
    "%%ml features --csv $train_data_path --target label\n",
    "columns: label, age, workclass, fnlwgt, education, education-num, marital-status, occupation, relationship, race, sex, capital-gain, capital-loss, hours-per-week, native-country"
   ]
  },
  {
   "cell_type": "markdown",
   "metadata": {},
   "source": [
    "### Define feature class\n",
    "Now the feature class is generated. Modify it as appropriate, such as converting a column from text to categorical. Then execute the cell."
   ]
  },
  {
   "cell_type": "code",
   "execution_count": 2,
   "metadata": {
    "collapsed": false
   },
   "outputs": [],
   "source": [
    "%%tensorflow feature\n",
    "\n",
    "import google.cloud.ml.features as features\n",
    "\n",
    "\n",
    "class CsvFeatures(features.CsvFeatureSet):\n",
    "  \"\"\" This class is generated from command line:\n",
    "         %%ml csv-schema ...\n",
    "         Please modify it as appropriate!!!\n",
    "  \"\"\"\n",
    "\n",
    "  def __init__(self):\n",
    "    columns = 'label','age','workclass','fnlwgt','education','education-num','marital-status','occupation','relationship','race','sex','capital-gain','capital-loss','hours-per-week','native-country'\n",
    "    super(CsvFeatures, self).__init__(columns)\n",
    "\n",
    "  target = features.target('label').classification()\n",
    "  attrs = [\n",
    "      features.numeric('age').min_max_scale(-1.0, 1.0),\n",
    "      features.numeric('capital-gain').min_max_scale(-1.0, 1.0),\n",
    "      features.numeric('capital-loss').min_max_scale(-1.0, 1.0),\n",
    "      features.numeric('education-num').min_max_scale(-1.0, 1.0),\n",
    "      features.numeric('fnlwgt').min_max_scale(-1.0, 1.0),\n",
    "      features.numeric('hours-per-week').min_max_scale(-1.0, 1.0),\n",
    "      features.categorical('education').one_of_k(),\n",
    "      features.categorical('marital-status').one_of_k(),\n",
    "      features.categorical('occupation').one_of_k(),\n",
    "      features.categorical('race').one_of_k(),\n",
    "      features.categorical('relationship').one_of_k(),\n",
    "      features.categorical('sex').one_of_k(),\n",
    "      features.categorical('workclass').one_of_k(),\n",
    "  ]\n",
    "  native_country = features.text('native-country').bag_of_words(vocab_size=10000)\n"
   ]
  },
  {
   "cell_type": "markdown",
   "metadata": {},
   "source": [
    "### Preprocess Training and Testing Data\n",
    "Output: preprocessed train data, test data, and metadata generated from train data"
   ]
  },
  {
   "cell_type": "code",
   "execution_count": 42,
   "metadata": {
    "collapsed": false
   },
   "outputs": [
    {
     "data": {
      "text/html": [
       "\n",
       "    <div class=\"jobstatus\" id=\"3_145906071632\">\n",
       "    </div>\n",
       "    <script>\n",
       "      require(['extensions/job', 'element!3_145906071632', 'base/js/events', 'style!/static/extensions/job.css'],\n",
       "        function(job, dom, events) {\n",
       "          job.render(dom, events, '91c757d4-9932-4a21-a7bf-a153a15225a9', 'local', 5, 'Click <a href=\"https://console.developers.google.com/dataflow?project=cloud-ml-users\" target=\"_blank\">here</a> to track your cloud DataFlow job.', 'Preprocessed files are at gs://cloud-ml-users-mldata/sampledata/ml/census/.<br>You can copy the dataset definition:<br><br>%%ml dataset --name please_name_your_dataset<br>train: gs://cloud-ml-users-mldata/sampledata/ml/census/preprocessed_train<br>test: gs://cloud-ml-users-mldata/sampledata/ml/census/preprocessed_test<br>metadata: gs://cloud-ml-users-mldata/sampledata/ml/census/metadata.yaml');\n",
       "        }\n",
       "      );\n",
       "    </script>"
      ],
      "text/plain": [
       "<IPython.core.display.HTML object>"
      ]
     },
     "execution_count": 42,
     "metadata": {},
     "output_type": "execute_result"
    }
   ],
   "source": [
    "%%ml preprocess -o $output_path --cloud -n dfjobtrain\n",
    "train: $train_data_path\n",
    "test: $test_data_path"
   ]
  },
  {
   "cell_type": "markdown",
   "metadata": {},
   "source": [
    "### Preprocessing Prediction Data\n",
    "Using the metadata we generated to preprocess more data."
   ]
  },
  {
   "cell_type": "code",
   "execution_count": 46,
   "metadata": {
    "collapsed": false
   },
   "outputs": [
    {
     "data": {
      "text/html": [
       "\n",
       "    <div class=\"jobstatus\" id=\"4_145906087359\">\n",
       "    </div>\n",
       "    <script>\n",
       "      require(['extensions/job', 'element!4_145906087359', 'base/js/events', 'style!/static/extensions/job.css'],\n",
       "        function(job, dom, events) {\n",
       "          job.render(dom, events, '952aef8e-9dc5-4bb2-9d24-61a07bea5a57', 'local', 5, 'Click <a href=\"https://console.developers.google.com/dataflow?project=cloud-ml-users\" target=\"_blank\">here</a> to track your cloud DataFlow job.', 'Preprocessed files are at gs://cloud-ml-users-mldata/sampledata/ml/census/.<br>');\n",
       "        }\n",
       "      );\n",
       "    </script>"
      ],
      "text/plain": [
       "<IPython.core.display.HTML object>"
      ]
     },
     "execution_count": 46,
     "metadata": {},
     "output_type": "execute_result"
    }
   ],
   "source": [
    "%%ml preprocess -o $output_path --cloud -n dfjobpredict\n",
    "predict: $predict_data_path\n",
    "metadata: $metadata_path"
   ]
  },
  {
   "cell_type": "code",
   "execution_count": null,
   "metadata": {
    "collapsed": true
   },
   "outputs": [],
   "source": []
  }
 ],
 "metadata": {
  "kernelspec": {
   "display_name": "Python 2",
   "language": "python",
   "name": "python2"
  },
  "language_info": {
   "codemirror_mode": {
    "name": "ipython",
    "version": 2
   },
   "file_extension": ".py",
   "mimetype": "text/x-python",
   "name": "python",
   "nbconvert_exporter": "python",
   "pygments_lexer": "ipython2",
   "version": "2.7.9"
  }
 },
 "nbformat": 4,
 "nbformat_minor": 0
}
