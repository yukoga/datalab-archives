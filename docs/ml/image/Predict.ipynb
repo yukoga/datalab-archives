{
 "cells": [
  {
   "cell_type": "markdown",
   "metadata": {},
   "source": [
    "### Online Prediction"
   ]
  },
  {
   "cell_type": "markdown",
   "metadata": {},
   "source": [
    "Copy data for making the predictions."
   ]
  },
  {
   "cell_type": "code",
   "execution_count": 1,
   "metadata": {
    "collapsed": true
   },
   "outputs": [],
   "source": [
    "# Some code to determine a unique bucket name for the purposes of the sample\n",
    "from gcp.context import Context\n",
    "\n",
    "CLOUD_PROJECT = Context.default().project_id\n",
    "ml_bucket_name = CLOUD_PROJECT + '-mldata'\n",
    "ml_bucket_path = 'gs://' + ml_bucket_name\n",
    "\n",
    "INPUT_DIR = ml_bucket_path + '/sampledata/ml/image/input'\n",
    "OUTPUT_DIR = ml_bucket_path + '/sampledata/ml/image/output'"
   ]
  },
  {
   "cell_type": "code",
   "execution_count": 3,
   "metadata": {
    "collapsed": false
   },
   "outputs": [
    {
     "name": "stderr",
     "output_type": "stream",
     "text": [
      "Copying gs://cloud-ml-users-mldata/sampledata/ml/image/input/daisy/6884975451_c74f445d69_m.jpg...\n",
      "Downloading file:///datalab/ml/predict/img.jpg:                  0 B/17.1 KiB    \r",
      "Downloading file:///datalab/ml/predict/img.jpg:                  17.1 KiB/17.1 KiB    \r\n",
      "Copying gs://cloud-ml-users-mldata/sampledata/ml/image/input/classify_image_graph_def.pb...\n",
      "Downloading ...//datalab/ml/predict/classify_image_graph_def.pb: 0 B/91.24 MiB    \r",
      "Downloading ...//datalab/ml/predict/classify_image_graph_def.pb: 72 KiB/91.24 MiB    \r",
      "Downloading ...//datalab/ml/predict/classify_image_graph_def.pb: 144 KiB/91.24 MiB    \r",
      "Downloading ...//datalab/ml/predict/classify_image_graph_def.pb: 216 KiB/91.24 MiB    \r",
      "Downloading ...//datalab/ml/predict/classify_image_graph_def.pb: 288 KiB/91.24 MiB    \r",
      "Downloading ...//datalab/ml/predict/classify_image_graph_def.pb: 360 KiB/91.24 MiB    \r",
      "Downloading ...//datalab/ml/predict/classify_image_graph_def.pb: 432 KiB/91.24 MiB    \r",
      "Downloading ...//datalab/ml/predict/classify_image_graph_def.pb: 504 KiB/91.24 MiB    \r",
      "Downloading ...//datalab/ml/predict/classify_image_graph_def.pb: 576 KiB/91.24 MiB    \r",
      "Downloading ...//datalab/ml/predict/classify_image_graph_def.pb: 648 KiB/91.24 MiB    \r",
      "Downloading ...//datalab/ml/predict/classify_image_graph_def.pb: 720 KiB/91.24 MiB    \r",
      "Downloading ...//datalab/ml/predict/classify_image_graph_def.pb: 792 KiB/91.24 MiB    \r",
      "Downloading ...//datalab/ml/predict/classify_image_graph_def.pb: 928 KiB/91.24 MiB    \r",
      "Downloading ...//datalab/ml/predict/classify_image_graph_def.pb: 1.04 MiB/91.24 MiB    \r",
      "Downloading ...//datalab/ml/predict/classify_image_graph_def.pb: 1.17 MiB/91.24 MiB    \r",
      "Downloading ...//datalab/ml/predict/classify_image_graph_def.pb: 1.3 MiB/91.24 MiB    \r",
      "Downloading ...//datalab/ml/predict/classify_image_graph_def.pb: 1.44 MiB/91.24 MiB    \r",
      "Downloading ...//datalab/ml/predict/classify_image_graph_def.pb: 1.57 MiB/91.24 MiB    \r",
      "Downloading ...//datalab/ml/predict/classify_image_graph_def.pb: 1.7 MiB/91.24 MiB    \r",
      "Downloading ...//datalab/ml/predict/classify_image_graph_def.pb: 1.84 MiB/91.24 MiB    \r",
      "Downloading ...//datalab/ml/predict/classify_image_graph_def.pb: 1.97 MiB/91.24 MiB    \r",
      "Downloading ...//datalab/ml/predict/classify_image_graph_def.pb: 2.1 MiB/91.24 MiB    \r",
      "Downloading ...//datalab/ml/predict/classify_image_graph_def.pb: 2.23 MiB/91.24 MiB    \r",
      "Downloading ...//datalab/ml/predict/classify_image_graph_def.pb: 2.49 MiB/91.24 MiB    \r",
      "Downloading ...//datalab/ml/predict/classify_image_graph_def.pb: 2.75 MiB/91.24 MiB    \r",
      "Downloading ...//datalab/ml/predict/classify_image_graph_def.pb: 3.01 MiB/91.24 MiB    \r",
      "Downloading ...//datalab/ml/predict/classify_image_graph_def.pb: 3.27 MiB/91.24 MiB    \r",
      "Downloading ...//datalab/ml/predict/classify_image_graph_def.pb: 3.52 MiB/91.24 MiB    \r",
      "Downloading ...//datalab/ml/predict/classify_image_graph_def.pb: 3.78 MiB/91.24 MiB    \r",
      "Downloading ...//datalab/ml/predict/classify_image_graph_def.pb: 4.04 MiB/91.24 MiB    \r",
      "Downloading ...//datalab/ml/predict/classify_image_graph_def.pb: 4.3 MiB/91.24 MiB    \r",
      "Downloading ...//datalab/ml/predict/classify_image_graph_def.pb: 4.55 MiB/91.24 MiB    \r",
      "Downloading ...//datalab/ml/predict/classify_image_graph_def.pb: 4.81 MiB/91.24 MiB    \r",
      "Downloading ...//datalab/ml/predict/classify_image_graph_def.pb: 5.07 MiB/91.24 MiB    \r",
      "Downloading ...//datalab/ml/predict/classify_image_graph_def.pb: 5.58 MiB/91.24 MiB    \r",
      "Downloading ...//datalab/ml/predict/classify_image_graph_def.pb: 6.09 MiB/91.24 MiB    \r",
      "Downloading ...//datalab/ml/predict/classify_image_graph_def.pb: 6.59 MiB/91.24 MiB    \r",
      "Downloading ...//datalab/ml/predict/classify_image_graph_def.pb: 7.1 MiB/91.24 MiB    \r",
      "Downloading ...//datalab/ml/predict/classify_image_graph_def.pb: 7.61 MiB/91.24 MiB    \r",
      "Downloading ...//datalab/ml/predict/classify_image_graph_def.pb: 8.12 MiB/91.24 MiB    \r",
      "Downloading ...//datalab/ml/predict/classify_image_graph_def.pb: 8.63 MiB/91.24 MiB    \r",
      "Downloading ...//datalab/ml/predict/classify_image_graph_def.pb: 9.13 MiB/91.24 MiB    \r",
      "Downloading ...//datalab/ml/predict/classify_image_graph_def.pb: 9.64 MiB/91.24 MiB    \r",
      "Downloading ...//datalab/ml/predict/classify_image_graph_def.pb: 10.15 MiB/91.24 MiB    \r",
      "Downloading ...//datalab/ml/predict/classify_image_graph_def.pb: 10.66 MiB/91.24 MiB    \r",
      "Downloading ...//datalab/ml/predict/classify_image_graph_def.pb: 11.66 MiB/91.24 MiB    \r",
      "Downloading ...//datalab/ml/predict/classify_image_graph_def.pb: 12.67 MiB/91.24 MiB    \r",
      "Downloading ...//datalab/ml/predict/classify_image_graph_def.pb: 13.68 MiB/91.24 MiB    \r",
      "Downloading ...//datalab/ml/predict/classify_image_graph_def.pb: 14.69 MiB/91.24 MiB    \r",
      "Downloading ...//datalab/ml/predict/classify_image_graph_def.pb: 15.7 MiB/91.24 MiB    \r",
      "Downloading ...//datalab/ml/predict/classify_image_graph_def.pb: 16.7 MiB/91.24 MiB    \r",
      "Downloading ...//datalab/ml/predict/classify_image_graph_def.pb: 17.71 MiB/91.24 MiB    \r",
      "Downloading ...//datalab/ml/predict/classify_image_graph_def.pb: 18.72 MiB/91.24 MiB    \r",
      "Downloading ...//datalab/ml/predict/classify_image_graph_def.pb: 19.73 MiB/91.24 MiB    \r",
      "Downloading ...//datalab/ml/predict/classify_image_graph_def.pb: 20.73 MiB/91.24 MiB    \r",
      "Downloading ...//datalab/ml/predict/classify_image_graph_def.pb: 21.74 MiB/91.24 MiB    \r",
      "Downloading ...//datalab/ml/predict/classify_image_graph_def.pb: 23.75 MiB/91.24 MiB    \r",
      "Downloading ...//datalab/ml/predict/classify_image_graph_def.pb: 25.76 MiB/91.24 MiB    \r",
      "Downloading ...//datalab/ml/predict/classify_image_graph_def.pb: 27.77 MiB/91.24 MiB    \r",
      "Downloading ...//datalab/ml/predict/classify_image_graph_def.pb: 29.77 MiB/91.24 MiB    \r",
      "Downloading ...//datalab/ml/predict/classify_image_graph_def.pb: 31.78 MiB/91.24 MiB    \r",
      "Downloading ...//datalab/ml/predict/classify_image_graph_def.pb: 33.79 MiB/91.24 MiB    \r",
      "Downloading ...//datalab/ml/predict/classify_image_graph_def.pb: 35.8 MiB/91.24 MiB    \r",
      "Downloading ...//datalab/ml/predict/classify_image_graph_def.pb: 37.8 MiB/91.24 MiB    \r",
      "Downloading ...//datalab/ml/predict/classify_image_graph_def.pb: 39.81 MiB/91.24 MiB    \r",
      "Downloading ...//datalab/ml/predict/classify_image_graph_def.pb: 41.82 MiB/91.24 MiB    \r",
      "Downloading ...//datalab/ml/predict/classify_image_graph_def.pb: 43.83 MiB/91.24 MiB    \r",
      "Downloading ...//datalab/ml/predict/classify_image_graph_def.pb: 47.84 MiB/91.24 MiB    \r",
      "Downloading ...//datalab/ml/predict/classify_image_graph_def.pb: 51.84 MiB/91.24 MiB    \r",
      "Downloading ...//datalab/ml/predict/classify_image_graph_def.pb: 55.85 MiB/91.24 MiB    \r",
      "Downloading ...//datalab/ml/predict/classify_image_graph_def.pb: 59.86 MiB/91.24 MiB    \r",
      "Downloading ...//datalab/ml/predict/classify_image_graph_def.pb: 63.87 MiB/91.24 MiB    \r",
      "Downloading ...//datalab/ml/predict/classify_image_graph_def.pb: 67.88 MiB/91.24 MiB    \r",
      "Downloading ...//datalab/ml/predict/classify_image_graph_def.pb: 71.88 MiB/91.24 MiB    \r",
      "Downloading ...//datalab/ml/predict/classify_image_graph_def.pb: 75.89 MiB/91.24 MiB    \r",
      "Downloading ...//datalab/ml/predict/classify_image_graph_def.pb: 79.9 MiB/91.24 MiB    \r",
      "Downloading ...//datalab/ml/predict/classify_image_graph_def.pb: 83.91 MiB/91.24 MiB    \r",
      "Downloading ...//datalab/ml/predict/classify_image_graph_def.pb: 87.91 MiB/91.24 MiB    \r",
      "Downloading ...//datalab/ml/predict/classify_image_graph_def.pb: 91.24 MiB/91.24 MiB    \r\n",
      "Copying gs://cloud-ml-users-mldata/sampledata/ml/image/output/dict.txt...\n",
      "Downloading file:///datalab/ml/predict/dict.txt:                 0 B/40 B    \r",
      "Downloading file:///datalab/ml/predict/dict.txt:                 40 B/40 B    \r\n"
     ]
    }
   ],
   "source": [
    "%%bash -s \"$INPUT_DIR\" \"$OUTPUT_DIR\"\n",
    "gsutil cp $1/daisy/6884975451_c74f445d69_m.jpg /datalab/ml/predict/img.jpg\n",
    "gsutil cp $1/classify_image_graph_def.pb /datalab/ml/predict/classify_image_graph_def.pb\n",
    "gsutil cp $2/dict.txt /datalab/ml/predict/dict.txt"
   ]
  },
  {
   "cell_type": "markdown",
   "metadata": {},
   "source": [
    "Like training, we also need to preprocess the image. But we'll do it locally, using the same preprocess.py but as a library.\n",
    "(Ignore the warning message \"AssertionError() in <bound method InteractiveSession.__del__...\")"
   ]
  },
  {
   "cell_type": "code",
   "execution_count": 4,
   "metadata": {
    "collapsed": false
   },
   "outputs": [],
   "source": [
    "import preprocess\n",
    "import re\n",
    "from google.protobuf import json_format\n",
    "\n",
    "preprocessor = preprocess.LocalImageTransformer('/datalab/ml/predict')\n",
    "with preprocess._open('/datalab/ml/predict/img.jpg') as f:\n",
    "  example = preprocessor.preprocess_list([f.read()], ['/datalab/ml/predict/img.jpg'])[0]\n",
    "  example = re.sub(r'\\s+', ' ', example)\n",
    "  "
   ]
  },
  {
   "cell_type": "markdown",
   "metadata": {},
   "source": [
    "Let's predict with the cloud model we trained."
   ]
  },
  {
   "cell_type": "code",
   "execution_count": 5,
   "metadata": {
    "collapsed": false
   },
   "outputs": [
    {
     "data": {
      "text/html": [
       "<table border=\"1\" class=\"dataframe\">\n",
       "  <thead>\n",
       "    <tr style=\"text-align: right;\">\n",
       "      <th></th>\n",
       "      <th>label</th>\n",
       "      <th>score</th>\n",
       "    </tr>\n",
       "  </thead>\n",
       "  <tbody>\n",
       "    <tr>\n",
       "      <th>0</th>\n",
       "      <td>4</td>\n",
       "      <td>0.97895</td>\n",
       "    </tr>\n",
       "  </tbody>\n",
       "</table>"
      ],
      "text/plain": [
       "<IPython.core.display.HTML object>"
      ]
     },
     "execution_count": 5,
     "metadata": {},
     "output_type": "execute_result"
    }
   ],
   "source": [
    "%%ml predict -m image.v1 --cloud  -p -d example"
   ]
  },
  {
   "cell_type": "markdown",
   "metadata": {},
   "source": [
    "The label is a number because our preprocessing has mapped it to an integer. We can figure it out by dumping the label file."
   ]
  },
  {
   "cell_type": "code",
   "execution_count": 7,
   "metadata": {
    "collapsed": false
   },
   "outputs": [
    {
     "name": "stdout",
     "output_type": "stream",
     "text": [
      "['tulips', 'roses', 'dandelion', 'sunflowers', 'daisy']\n"
     ]
    }
   ],
   "source": [
    "with open('/datalab/ml/predict/dict.txt') as f:\n",
    "  labels = f.readlines()\n",
    "labels = [e.strip() for e in labels]\n",
    "print labels"
   ]
  },
  {
   "cell_type": "markdown",
   "metadata": {},
   "source": [
    "Labels are 0 based, so it is daisy!"
   ]
  },
  {
   "cell_type": "code",
   "execution_count": 8,
   "metadata": {
    "collapsed": true
   },
   "outputs": [],
   "source": [
    "%%bash\n",
    "cp /datalab/ml/predict/img.jpg ./"
   ]
  },
  {
   "cell_type": "code",
   "execution_count": 9,
   "metadata": {
    "collapsed": false
   },
   "outputs": [
    {
     "data": {
      "text/html": [
       "<div style=\"padding: 16px\"><img src=\"img.jpg\" /><span>daisy (0.98)</span></div>"
      ],
      "text/plain": [
       "<IPython.core.display.HTML object>"
      ]
     },
     "execution_count": 9,
     "metadata": {},
     "output_type": "execute_result"
    }
   ],
   "source": [
    "from IPython.core.display import HTML\n",
    "HTML('<div style=\"padding: 16px\"><img src=\"%s\" /><span>%s (%.2f)</span></div>' % ('img.jpg', labels[4], 0.982618))"
   ]
  },
  {
   "cell_type": "markdown",
   "metadata": {},
   "source": [
    "### Batch Prediction"
   ]
  },
  {
   "cell_type": "markdown",
   "metadata": {},
   "source": [
    "Define prediction data first."
   ]
  },
  {
   "cell_type": "code",
   "execution_count": 44,
   "metadata": {
    "collapsed": true
   },
   "outputs": [],
   "source": [
    "CLOUD_TEST_DATA = '%s/data/data.test.json-00000-of-00010' % OUTPUT_DIR"
   ]
  },
  {
   "cell_type": "code",
   "execution_count": 45,
   "metadata": {
    "collapsed": false
   },
   "outputs": [
    {
     "data": {
      "text/html": [
       "\n",
       "    <div class=\"jobstatus\" id=\"1_146128313265\">\n",
       "    </div>\n",
       "    <script>\n",
       "      require(['extensions/job', 'element!1_146128313265', 'base/js/events', 'style!/static/extensions/job.css'],\n",
       "        function(job, dom, events) {\n",
       "          job.render(dom, events, 'projects/cloud-ml-users/operations/ad296747-4d51-4f50-90f1-3f743f39c99c', 'cloud', 10, '', 'Prediction results: <br> gs://cloud-ml-users-mldata/sampledata/ml/image/output/model/v1/batch');\n",
       "        }\n",
       "      );\n",
       "    </script>"
      ],
      "text/plain": [
       "<IPython.core.display.HTML object>"
      ]
     },
     "execution_count": 45,
     "metadata": {},
     "output_type": "execute_result"
    }
   ],
   "source": [
    "%%ml predict -m image.v1 -b batch --cloud\n",
    "$CLOUD_TEST_DATA"
   ]
  },
  {
   "cell_type": "code",
   "execution_count": null,
   "metadata": {
    "collapsed": true
   },
   "outputs": [],
   "source": []
  }
 ],
 "metadata": {
  "kernelspec": {
   "display_name": "Python 2",
   "language": "python",
   "name": "python2"
  },
  "language_info": {
   "codemirror_mode": {
    "name": "ipython",
    "version": 2
   },
   "file_extension": ".py",
   "mimetype": "text/x-python",
   "name": "python",
   "nbconvert_exporter": "python",
   "pygments_lexer": "ipython2",
   "version": "2.7.9"
  }
 },
 "nbformat": 4,
 "nbformat_minor": 0
}
