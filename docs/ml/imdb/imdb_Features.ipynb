{
 "cells": [
  {
   "cell_type": "markdown",
   "metadata": {},
   "source": [
    "## Copy Training and Prediction Data"
   ]
  },
  {
   "cell_type": "code",
   "execution_count": 2,
   "metadata": {
    "collapsed": true
   },
   "outputs": [],
   "source": [
    "%%bash\n",
    "mkdir -p /content/imdb\n",
    "wget https://storage.googleapis.com/cloud-datalab/sampledata/ml/imdb/raw_sample.csv -P /content/imdb -q"
   ]
  },
  {
   "cell_type": "markdown",
   "metadata": {},
   "source": [
    "## Define Feature Class"
   ]
  },
  {
   "cell_type": "code",
   "execution_count": 2,
   "metadata": {
    "collapsed": true
   },
   "outputs": [],
   "source": [
    "%%tensorflow feature\n",
    "\n",
    "import google.cloud.ml as cloudml\n",
    "import google.cloud.ml.features as features\n",
    "\n",
    "class ImdbFeatures(features.CsvFeatureSet):\n",
    "  # The attribute name is the name of the feature that is produced by transforming\n",
    "  # one of the input columns.\n",
    "  # The column name indicates the column in the input to transform.\n",
    "  target = features.target('sentiment').classification()\n",
    "  text = features.text('data')\n",
    "\n",
    "  def __init__(self):\n",
    "    columns = ['sentiment', 'data']\n",
    "    super(ImdbFeatures, self).__init__(columns)"
   ]
  },
  {
   "cell_type": "markdown",
   "metadata": {},
   "source": [
    "## Local Preprocessing\n",
    "(note: you can use files in Cloud Storage too)"
   ]
  },
  {
   "cell_type": "code",
   "execution_count": 3,
   "metadata": {
    "collapsed": false
   },
   "outputs": [
    {
     "data": {
      "text/html": [
       "\n",
       "    <div class=\"jobstatus\" id=\"1_145981075428\">\n",
       "    </div>\n",
       "    <script>\n",
       "      require(['extensions/job', 'element!1_145981075428', 'base/js/events', 'style!/static/extensions/job.css'],\n",
       "        function(job, dom, events) {\n",
       "          job.render(dom, events, 'e3cb45e7-10f0-41c1-8360-012ad886b78d', 'local', 5, '', 'Preprocessed files are at /content/imdb.<br>You can copy the dataset definition:<br><br>%%ml dataset --name please_name_your_dataset<br>train: /content/imdb/preprocessed_train<br>metadata: /content/imdb/metadata.yaml');\n",
       "        }\n",
       "      );\n",
       "    </script>"
      ],
      "text/plain": [
       "<IPython.core.display.HTML object>"
      ]
     },
     "execution_count": 3,
     "metadata": {},
     "output_type": "execute_result"
    }
   ],
   "source": [
    "%%ml preprocess -o /content/imdb\n",
    "train: /content/imdb/raw_sample.csv"
   ]
  },
  {
   "cell_type": "markdown",
   "metadata": {},
   "source": [
    "## Running it in cloud\n",
    "You can run preprocessing dataflow job in cloud too, especially if your data is large and lives in cloud storage. For example:\n",
    "\n",
    "%%ml preprocess -o gs://cloud-ml-users-data/qimingj/imdb -n job1 --cloud <br>\n",
    "train: gs://cloud-ml-users-data/qimingj/imdb/raw_sample.csv <br>\n",
    "test: gs://cloud-ml-users-data/qimingj/imdb/raw_sample.csv"
   ]
  },
  {
   "cell_type": "code",
   "execution_count": null,
   "metadata": {
    "collapsed": true
   },
   "outputs": [],
   "source": []
  }
 ],
 "metadata": {
  "kernelspec": {
   "display_name": "Python 2",
   "language": "python",
   "name": "python2"
  },
  "language_info": {
   "codemirror_mode": {
    "name": "ipython",
    "version": 2
   },
   "file_extension": ".py",
   "mimetype": "text/x-python",
   "name": "python",
   "nbconvert_exporter": "python",
   "pygments_lexer": "ipython2",
   "version": "2.7.9"
  }
 },
 "nbformat": 4,
 "nbformat_minor": 0
}
