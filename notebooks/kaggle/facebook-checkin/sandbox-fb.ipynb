{
 "cells": [
  {
   "cell_type": "code",
   "execution_count": null,
   "metadata": {
    "collapsed": false
   },
   "outputs": [],
   "source": [
    "%%bash\n",
    "ls -al"
   ]
  },
  {
   "cell_type": "code",
   "execution_count": null,
   "metadata": {
    "collapsed": false
   },
   "outputs": [],
   "source": [
    "import pandas as pd\n",
    "import random\n",
    "import seaborn as sns\n",
    "import matplotlib.pyplot as plt\n",
    "import math"
   ]
  },
  {
   "cell_type": "code",
   "execution_count": null,
   "metadata": {
    "collapsed": false
   },
   "outputs": [],
   "source": [
    "fig = plt.figure()\n",
    "with sns.axes_style('darkgrid'):\n",
    "  ax1 = fig.add_subplot(211)"
   ]
  },
  {
   "cell_type": "code",
   "execution_count": null,
   "metadata": {
    "collapsed": true
   },
   "outputs": [],
   "source": [
    "def read_sampled_csv(file_name, sample_size):\n",
    "  n = sum(1 for line in open(file_name)) - 1 #number of records in file (excludes header)\n",
    "  s = sample_size #desired sample size\n",
    "  skip = sorted(random.sample(xrange(1,n+1),n-s)) #the 0-indexed header will not be included in the skip list\n",
    "  return pd.read_csv(file_name, skiprows=skip)"
   ]
  },
  {
   "cell_type": "code",
   "execution_count": null,
   "metadata": {
    "collapsed": false
   },
   "outputs": [],
   "source": [
    "df_train = read_sampled_csv(\"train.csv\", 1000)"
   ]
  },
  {
   "cell_type": "code",
   "execution_count": null,
   "metadata": {
    "collapsed": false
   },
   "outputs": [],
   "source": [
    "df_train['month'] = ((df_train.time / (60*24*30)) % 12).astype('int')\n",
    "df_train['year'] = (df_train.time / (60*24*365)).astype('int')\n",
    "df_train['day'] = ((df_train.time / (60*24)) % 365).astype('int')\n",
    "df_train['weekday'] = ((df_train.time / (60*24)) % 7).astype('int')\n",
    "df_train['hour'] = ((df_train.time / 60) % 24).astype('int')"
   ]
  },
  {
   "cell_type": "code",
   "execution_count": null,
   "metadata": {
    "collapsed": false
   },
   "outputs": [],
   "source": [
    "df_train.head(100)"
   ]
  },
  {
   "cell_type": "code",
   "execution_count": null,
   "metadata": {
    "collapsed": false
   },
   "outputs": [],
   "source": [
    "df_train.weekday[df_train.place_id==5638621198]"
   ]
  },
  {
   "cell_type": "code",
   "execution_count": null,
   "metadata": {
    "collapsed": false
   },
   "outputs": [],
   "source": [
    "sns.distplot(df_train.weekday[df_train.place_id==2362574278], bins=7)"
   ]
  },
  {
   "cell_type": "code",
   "execution_count": null,
   "metadata": {
    "collapsed": false
   },
   "outputs": [],
   "source": [
    "help(ax1.plot)"
   ]
  },
  {
   "cell_type": "code",
   "execution_count": null,
   "metadata": {
    "collapsed": false
   },
   "outputs": [],
   "source": [
    "df_train.describe()"
   ]
  },
  {
   "cell_type": "code",
   "execution_count": null,
   "metadata": {
    "collapsed": false
   },
   "outputs": [],
   "source": [
    "len(df_train.place_id.unique())"
   ]
  },
  {
   "cell_type": "markdown",
   "metadata": {},
   "source": [
    "### Convert timestamp to datetime\n",
    "refs. http://stackoverflow.com/questions/19704338/why-this-date-conversion-with-pandas-to-datetime-is-much-slower-than-some-altern\n",
    "```python\n",
    "import datetime\n",
    "import time\n",
    "import pandas as pd\n",
    "timestamp = 623289600000000000L\n",
    "\n",
    "timeit pd.to_datetime(timestamp, unit = 'ns')\n",
    "10000 loops, best of 3: 46.9 us per loop\n",
    "\n",
    "In [3]: timeit time.ctime(timestamp/10**9)\n",
    "1000000 loops, best of 3: 904 ns per loop\n",
    "\n",
    "timeit time.localtime(timestamp/10**9)\n",
    "1000000 loops, best of 3: 1.13 us per loop\n",
    "\n",
    "timeit datetime.datetime.fromtimestamp(timestamp/10**9)\n",
    "1000000 loops, best of 3: 1.51 us per loop\n",
    "\n",
    "timeit datetime.datetime.utcfromtimestamp(timestamp/10**9)\n",
    "1000000 loops, best of 3: 1.29 us per loop\n",
    "```"
   ]
  }
 ],
 "metadata": {
  "kernelspec": {
   "display_name": "Python 2",
   "language": "python",
   "name": "python2"
  },
  "language_info": {
   "codemirror_mode": {
    "name": "ipython",
    "version": 2
   },
   "file_extension": ".py",
   "mimetype": "text/x-python",
   "name": "python",
   "nbconvert_exporter": "python",
   "pygments_lexer": "ipython2",
   "version": "2.7.12+"
  }
 },
 "nbformat": 4,
 "nbformat_minor": 0
}
