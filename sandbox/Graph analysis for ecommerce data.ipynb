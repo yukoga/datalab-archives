{
 "cells": [
  {
   "cell_type": "code",
   "execution_count": 1,
   "metadata": {
    "collapsed": false
   },
   "outputs": [],
   "source": [
    "import gcp.bigquery as bq\n",
    "import pandas as pd\n",
    "from scipy import stats\n",
    "import numpy as np\n",
    "import matplotlib.pyplot as plt\n",
    "import seaborn as sns"
   ]
  },
  {
   "cell_type": "code",
   "execution_count": 2,
   "metadata": {
    "collapsed": true
   },
   "outputs": [],
   "source": [
    "%%sql --module control\n",
    "SELECT\n",
    "  float(tblLpPrd.gaProductAddsToCart / tblLp.gaEntrances) as CartToEntrance,\n",
    "  float(tblLpPrd.gaUniquePurchases / tblLp.gaEntrances) as CVR,\n",
    "  float((float(tblLpPrd.gaProductAddsToCart / tblLp.gaEntrances) - 0) / (0.35294117647058826 - 0)) as nomalizedCartToEnt,\n",
    "  tblLpPrd.gaProductAddsToCart as addingCart,\n",
    "  tblLpPrd.gaUniquePurchases as purchases,\n",
    "  tblLp.gaEntrances as entrances,\n",
    "  tblLpPrd.gaLandingPagePath,\n",
    "  tblLpPrd.gaProductName,\n",
    "  tblLpPrd.gaProductSKU,\n",
    "FROM\n",
    "  [98177472.lp_and_products] AS tblLpPrd\n",
    "JOIN (\n",
    "  SELECT\n",
    "    gaLandingPagePath,\n",
    "    gaDate,\n",
    "    gaEntrances\n",
    "  FROM\n",
    "    [98177472.landing_pages]\n",
    "  WHERE\n",
    "--    (REGEXP_MATCH(gaDate, r'20151[0-1]{1}.*') \n",
    "--      or REGEXP_MATCH(gaDate, r'2015120[1-9]{1}') \n",
    "--      or REGEXP_MATCH(gaDate, r'2015121[0-5]{1}'))\n",
    "--    and \n",
    "    REGEXP_MATCH(gaLandingPagePath, r'^/items\\/') is not true and REGEXP_MATCH(gaLandingPagePath, r'^/category\\/') is not true\n",
    ") AS tblLp\n",
    "ON\n",
    "  tblLpPrd.gaLandingPagePath == tblLp.gaLandingPagePath\n",
    "  AND tblLpPrd.gaDate == tblLp.gaDate\n",
    "--WHERE \n",
    "--  tblLpPrd.gaUniquePurchases > 0\n",
    "ORDER BY\n",
    "  CartToEntrance DESC"
   ]
  },
  {
   "cell_type": "code",
   "execution_count": 3,
   "metadata": {
    "collapsed": true
   },
   "outputs": [],
   "source": [
    "%%sql --module controlCategory\n",
    "SELECT\n",
    "  float(tblLpPrd.gaProductAddsToCart / tblLp.gaEntrances) as CartToEntrance,\n",
    "  float(tblLpPrd.gaUniquePurchases / tblLp.gaEntrances) as CVR,\n",
    "  float((float(tblLpPrd.gaProductAddsToCart / tblLp.gaEntrances) - 0) / (0.35294117647058826 - 0)) as nomalizedCartToEnt,\n",
    "  tblLpPrd.gaProductAddsToCart as addingCart,\n",
    "  tblLpPrd.gaUniquePurchases as purchases,\n",
    "  tblLp.gaEntrances as entrances,\n",
    "  tblLpPrd.gaLandingPagePath,\n",
    "  tblLpPrd.gaProductName,\n",
    "  tblLpPrd.gaProductSKU,\n",
    "FROM\n",
    "  [98177472.lp_and_products] AS tblLpPrd\n",
    "JOIN (\n",
    "  SELECT\n",
    "    gaLandingPagePath,\n",
    "    gaDate,\n",
    "    gaEntrances\n",
    "  FROM\n",
    "    [98177472.landing_pages]\n",
    "  WHERE\n",
    "--    (REGEXP_MATCH(gaDate, r'20151[0-1]{1}.*') \n",
    "--      or REGEXP_MATCH(gaDate, r'2015120[1-9]{1}') \n",
    "--      or REGEXP_MATCH(gaDate, r'2015121[0-5]{1}'))\n",
    "--    and \n",
    "    REGEXP_MATCH(gaLandingPagePath, r'^/category\\/')\n",
    ") AS tblLp\n",
    "ON\n",
    "  tblLpPrd.gaLandingPagePath == tblLp.gaLandingPagePath\n",
    "  AND tblLpPrd.gaDate == tblLp.gaDate\n",
    "--WHERE \n",
    "--  tblLpPrd.gaUniquePurchases > 0\n",
    "ORDER BY\n",
    "  CartToEntrance DESC"
   ]
  },
  {
   "cell_type": "code",
   "execution_count": 4,
   "metadata": {
    "collapsed": true
   },
   "outputs": [],
   "source": [
    "%%sql --module controlItem\n",
    "SELECT\n",
    "  float(tblLpPrd.gaProductAddsToCart / tblLp.gaEntrances) as CartToEntrance,\n",
    "  float(tblLpPrd.gaUniquePurchases / tblLp.gaEntrances) as CVR,\n",
    "  float((float(tblLpPrd.gaProductAddsToCart / tblLp.gaEntrances) - 0) / (0.35294117647058826 - 0)) as nomalizedCartToEnt,\n",
    "  tblLpPrd.gaProductAddsToCart as addingCart,\n",
    "  tblLpPrd.gaUniquePurchases as purchases,\n",
    "  tblLp.gaEntrances as entrances,\n",
    "  tblLpPrd.gaLandingPagePath,\n",
    "  tblLpPrd.gaProductName,\n",
    "  tblLpPrd.gaProductSKU,\n",
    "FROM\n",
    "  [98177472.lp_and_products] AS tblLpPrd\n",
    "JOIN (\n",
    "  SELECT\n",
    "    gaLandingPagePath,\n",
    "    gaDate,\n",
    "    gaEntrances\n",
    "  FROM\n",
    "    [98177472.landing_pages]\n",
    "  WHERE\n",
    "--    (REGEXP_MATCH(gaDate, r'20151[0-1]{1}.*') \n",
    "--      or REGEXP_MATCH(gaDate, r'2015120[1-9]{1}') \n",
    "--      or REGEXP_MATCH(gaDate, r'2015121[0-5]{1}'))\n",
    "--    and \n",
    "    REGEXP_MATCH(gaLandingPagePath, r'^/items\\/')\n",
    ") AS tblLp\n",
    "ON\n",
    "  tblLpPrd.gaLandingPagePath == tblLp.gaLandingPagePath\n",
    "  AND tblLpPrd.gaDate == tblLp.gaDate\n",
    "--WHERE \n",
    "--  tblLpPrd.gaUniquePurchases > 0\n",
    "ORDER BY\n",
    "  CartToEntrance DESC"
   ]
  },
  {
   "cell_type": "code",
   "execution_count": 5,
   "metadata": {
    "collapsed": true
   },
   "outputs": [],
   "source": [
    "%%sql --module ptnA\n",
    "SELECT\n",
    "  float(tblLpPrd.gaProductAddsToCart / tblLp.gaEntrances) as CartToEntrance,\n",
    "  float(tblLpPrd.gaUniquePurchases / tblLp.gaEntrances) as CVR,\n",
    "  float((float(tblLpPrd.gaProductAddsToCart / tblLp.gaEntrances) - 0) / (0.35294117647058826 - 0)) as nomalizedCartToEnt,\n",
    "  tblLpPrd.gaProductAddsToCart as addingCart,\n",
    "  tblLpPrd.gaUniquePurchases as purchases,\n",
    "  tblLp.gaEntrances as entrances,\n",
    "  tblLpPrd.gaLandingPagePath,\n",
    "  tblLpPrd.gaProductName,\n",
    "  tblLpPrd.gaProductSKU,\n",
    "FROM\n",
    "  [98177472.lp_and_products] AS tblLpPrd\n",
    "JOIN (\n",
    "  SELECT\n",
    "    gaLandingPagePath,\n",
    "    gaDate,\n",
    "    gaEntrances\n",
    "  FROM\n",
    "    [98177472.landing_pages]\n",
    "  WHERE\n",
    "--    (REGEXP_MATCH(gaDate, r'2015121[6-9]{1}') \n",
    "--      or REGEXP_MATCH(gaDate, r'201512[2-3]{1}[0-9]{1}') \n",
    "--      or REGEXP_MATCH(gaDate, r'2016.*'))\n",
    "--    and \n",
    "    REGEXP_MATCH(gaLandingPagePath, r'^/category\\/')\n",
    ") AS tblLp\n",
    "ON\n",
    "  tblLpPrd.gaLandingPagePath == tblLp.gaLandingPagePath\n",
    "  AND tblLpPrd.gaDate == tblLp.gaDate\n",
    "--WHERE \n",
    "--  tblLpPrd.gaUniquePurchases > 0\n",
    "ORDER BY\n",
    "  CartToEntrance DESC"
   ]
  },
  {
   "cell_type": "code",
   "execution_count": 6,
   "metadata": {
    "collapsed": true
   },
   "outputs": [],
   "source": [
    "%%sql --module ptnB\n",
    "SELECT\n",
    "  float(tblLpPrd.gaProductAddsToCart / tblLp.gaEntrances) as CartToEntrance,\n",
    "  float(tblLpPrd.gaUniquePurchases / tblLp.gaEntrances) as CVR,\n",
    "  float((float(tblLpPrd.gaProductAddsToCart / tblLp.gaEntrances) - 0) / (0.35294117647058826 - 0)) as nomalizedCartToEnt,\n",
    "  tblLpPrd.gaProductAddsToCart as addingCart,\n",
    "  tblLpPrd.gaUniquePurchases as purchases,\n",
    "  tblLp.gaEntrances as entrances,\n",
    "  tblLpPrd.gaLandingPagePath,\n",
    "  tblLpPrd.gaProductName,\n",
    "  tblLpPrd.gaProductSKU,\n",
    "FROM\n",
    "  [98177472.lp_and_products] AS tblLpPrd\n",
    "JOIN (\n",
    "  SELECT\n",
    "    gaLandingPagePath,\n",
    "    gaDate,\n",
    "    gaEntrances\n",
    "  FROM\n",
    "    [98177472.landing_pages]\n",
    "  WHERE\n",
    "--    (REGEXP_MATCH(gaDate, r'2015121[6-9]{1}') \n",
    "--      or REGEXP_MATCH(gaDate, r'201512[2-3]{1}[0-9]{1}') \n",
    "--      or REGEXP_MATCH(gaDate, r'2016.*'))\n",
    "--    and \n",
    "    REGEXP_MATCH(gaLandingPagePath, r'^/items\\/')\n",
    ") AS tblLp\n",
    "ON\n",
    "  tblLpPrd.gaLandingPagePath == tblLp.gaLandingPagePath\n",
    "  AND tblLpPrd.gaDate == tblLp.gaDate\n",
    "--WHERE \n",
    "--  tblLpPrd.gaUniquePurchases > 0\n",
    "ORDER BY\n",
    "  CartToEntrance DESC"
   ]
  },
  {
   "cell_type": "code",
   "execution_count": 7,
   "metadata": {
    "collapsed": false
   },
   "outputs": [
    {
     "data": {
      "text/html": [
       "<div>\n",
       "<table border=\"1\" class=\"dataframe\">\n",
       "  <thead>\n",
       "    <tr style=\"text-align: right;\">\n",
       "      <th></th>\n",
       "      <th>CartToEntrance</th>\n",
       "      <th>CVR</th>\n",
       "      <th>nomalizedCartToEnt</th>\n",
       "      <th>addingCart</th>\n",
       "      <th>purchases</th>\n",
       "      <th>entrances</th>\n",
       "      <th>tblLpPrd_gaLandingPagePath</th>\n",
       "      <th>tblLpPrd_gaProductName</th>\n",
       "      <th>tblLpPrd_gaProductSKU</th>\n",
       "    </tr>\n",
       "  </thead>\n",
       "  <tbody>\n",
       "    <tr>\n",
       "      <th>0</th>\n",
       "      <td>0.207547</td>\n",
       "      <td>0.0000</td>\n",
       "      <td>0.588050</td>\n",
       "      <td>11</td>\n",
       "      <td>0</td>\n",
       "      <td>53</td>\n",
       "      <td>/store/index.html</td>\n",
       "      <td>アーチャーリッジウィメンズベスト</td>\n",
       "      <td>PL1079</td>\n",
       "    </tr>\n",
       "    <tr>\n",
       "      <th>1</th>\n",
       "      <td>0.150000</td>\n",
       "      <td>0.0500</td>\n",
       "      <td>0.425000</td>\n",
       "      <td>3</td>\n",
       "      <td>1</td>\n",
       "      <td>20</td>\n",
       "      <td>/topics/feature/015459/index.html</td>\n",
       "      <td>キャッスルロック15L バックパック</td>\n",
       "      <td>PU9708</td>\n",
       "    </tr>\n",
       "    <tr>\n",
       "      <th>2</th>\n",
       "      <td>0.142857</td>\n",
       "      <td>0.0000</td>\n",
       "      <td>0.404762</td>\n",
       "      <td>2</td>\n",
       "      <td>0</td>\n",
       "      <td>14</td>\n",
       "      <td>/s/featureitems/blue_blue/index.html</td>\n",
       "      <td>パーセルマウンテンインターチェンジジャケット　※BLUE BLUE別注モデル</td>\n",
       "      <td>PM5978</td>\n",
       "    </tr>\n",
       "    <tr>\n",
       "      <th>3</th>\n",
       "      <td>0.133333</td>\n",
       "      <td>0.0000</td>\n",
       "      <td>0.377778</td>\n",
       "      <td>4</td>\n",
       "      <td>0</td>\n",
       "      <td>30</td>\n",
       "      <td>/s/store/kanagawa/index.html</td>\n",
       "      <td>スロットキャニオンパンツ</td>\n",
       "      <td>PM4642</td>\n",
       "    </tr>\n",
       "    <tr>\n",
       "      <th>4</th>\n",
       "      <td>0.125000</td>\n",
       "      <td>0.0625</td>\n",
       "      <td>0.354167</td>\n",
       "      <td>2</td>\n",
       "      <td>1</td>\n",
       "      <td>16</td>\n",
       "      <td>/topics/feature/015263/index.html</td>\n",
       "      <td>バウンティフルティンバーメッセンジャー</td>\n",
       "      <td>PU8917</td>\n",
       "    </tr>\n",
       "  </tbody>\n",
       "</table>\n",
       "</div>"
      ],
      "text/plain": [
       "   CartToEntrance     CVR  nomalizedCartToEnt  addingCart  purchases  \\\n",
       "0        0.207547  0.0000            0.588050          11          0   \n",
       "1        0.150000  0.0500            0.425000           3          1   \n",
       "2        0.142857  0.0000            0.404762           2          0   \n",
       "3        0.133333  0.0000            0.377778           4          0   \n",
       "4        0.125000  0.0625            0.354167           2          1   \n",
       "\n",
       "   entrances            tblLpPrd_gaLandingPagePath  \\\n",
       "0         53                     /store/index.html   \n",
       "1         20     /topics/feature/015459/index.html   \n",
       "2         14  /s/featureitems/blue_blue/index.html   \n",
       "3         30          /s/store/kanagawa/index.html   \n",
       "4         16     /topics/feature/015263/index.html   \n",
       "\n",
       "                   tblLpPrd_gaProductName tblLpPrd_gaProductSKU  \n",
       "0                        アーチャーリッジウィメンズベスト                PL1079  \n",
       "1                      キャッスルロック15L バックパック                PU9708  \n",
       "2  パーセルマウンテンインターチェンジジャケット　※BLUE BLUE別注モデル                PM5978  \n",
       "3                            スロットキャニオンパンツ                PM4642  \n",
       "4                     バウンティフルティンバーメッセンジャー                PU8917  "
      ]
     },
     "execution_count": 7,
     "metadata": {},
     "output_type": "execute_result"
    }
   ],
   "source": [
    "dfcontrol = bq.Query(control).to_dataframe()\n",
    "dfcontrolCategory = bq.Query(controlCategory).to_dataframe()\n",
    "dfcontrolItem = bq.Query(controlItem).to_dataframe()\n",
    "dfptnA = bq.Query(ptnA).to_dataframe()\n",
    "dfptnB = bq.Query(ptnB).to_dataframe()\n",
    "dfcontrol.head(5)\n",
    "#dfptnA.head(5)\n",
    "#dfptnB.head(5)"
   ]
  },
  {
   "cell_type": "code",
   "execution_count": 8,
   "metadata": {
    "collapsed": false
   },
   "outputs": [
    {
     "name": "stdout",
     "output_type": "stream",
     "text": [
      "Empty DataFrame\n",
      "Columns: [nomalizedCartToEnt, UPnCTE, CartToEntrance, UpCTE, p-CTE, CVR, UpCVR, p-CVR]\n",
      "Index: []\n",
      "--- mean ---\n",
      "0.00250827688005\n",
      "0.00908753079865\n",
      "0.00908753079865\n",
      "0.116347357945\n",
      "0.116347357945\n",
      "                 nomalizedCartToEnt       UPnCTE  CartToEntrance        UpCTE  \\\n",
      "control                    0.002508     0.000000        0.000885     0.000000   \n",
      "controlCategory            0.009088     0.000000        0.003207     0.000000   \n",
      "ptnA                       0.009088   262.301741        0.003207   262.301741   \n",
      "controlItem                0.116347     0.000000        0.041064     0.000000   \n",
      "ptnB                       0.116347  4538.537271        0.041064  4538.537271   \n",
      "\n",
      "                         p-CTE       CVR        UpCVR          p-CVR  \n",
      "control           0.000000e+00  0.000278     0.000000   0.000000e+00  \n",
      "controlCategory   0.000000e+00  0.000937     0.000000   0.000000e+00  \n",
      "ptnA             7.755482e-186  0.000937   236.669446   6.593783e-61  \n",
      "controlItem       0.000000e+00  0.011763     0.000000   0.000000e+00  \n",
      "ptnB              0.000000e+00  0.011763  4125.905481  9.932760e-165  \n",
      "--- std ---\n",
      "0.014606092002\n",
      "0.0271266113051\n",
      "0.0271266113051\n",
      "0.0997450825015\n",
      "0.0997450825015\n",
      "--- median ---\n",
      "0.000755354127788\n",
      "0.000855475040258\n",
      "0.000855475040258\n",
      "0.0944444444444\n",
      "0.0944444444444\n"
     ]
    }
   ],
   "source": [
    "dataTable = pd.DataFrame(\n",
    "  columns=[\"nomalizedCartToEnt\", \"UPnCTE\", \"CartToEntrance\", \"UpCTE\", \"p-CTE\", \"CVR\", \"UpCVR\", \"p-CVR\"])\n",
    "print(dataTable)\n",
    "print(\"--- mean ---\")\n",
    "print(dfcontrol[\"nomalizedCartToEnt\"].mean())\n",
    "print(dfcontrolCategory[\"nomalizedCartToEnt\"].mean())\n",
    "print(dfptnA[\"nomalizedCartToEnt\"].mean())\n",
    "print(dfcontrolItem[\"nomalizedCartToEnt\"].mean())\n",
    "print(dfptnB[\"nomalizedCartToEnt\"].mean())\n",
    "control = pd.DataFrame(\n",
    "  [[dfcontrol[\"nomalizedCartToEnt\"].mean(), 0, dfcontrol[\"CartToEntrance\"].mean(), 0, 0, dfcontrol[\"CVR\"].mean(), 0, 0]]\n",
    ")\n",
    "control.columns=[\"nomalizedCartToEnt\", \"UPnCTE\", \"CartToEntrance\", \"UpCTE\", \"p-CTE\", \"CVR\", \"UpCVR\", \"p-CVR\"]\n",
    "control.index=[\"control\"]\n",
    "controlCategory = pd.DataFrame(\n",
    "  [[dfcontrolCategory[\"nomalizedCartToEnt\"].mean(), 0, \n",
    "    dfcontrolCategory[\"CartToEntrance\"].mean(), 0, 0,\n",
    "    dfcontrolCategory[\"CVR\"].mean(), 0, 0]]\n",
    ")\n",
    "controlCategory.columns=[\"nomalizedCartToEnt\", \"UPnCTE\", \"CartToEntrance\", \"UpCTE\", \"p-CTE\", \"CVR\", \"UpCVR\", \"p-CVR\"]\n",
    "controlCategory.index=[\"controlCategory\"]\n",
    "ptnACategory = pd.DataFrame(\n",
    "  [[dfptnA[\"nomalizedCartToEnt\"].mean(), \n",
    "    ((dfptnA[\"nomalizedCartToEnt\"].mean()-dfcontrol[\"nomalizedCartToEnt\"].mean())/dfcontrol[\"nomalizedCartToEnt\"].mean())*100, \n",
    "    dfptnA[\"CartToEntrance\"].mean(), \n",
    "    ((dfptnA[\"CartToEntrance\"].mean()-dfcontrol[\"CartToEntrance\"].mean())/dfcontrol[\"CartToEntrance\"].mean())*100, \n",
    "    stats.ttest_ind(dfptnA[\"CartToEntrance\"], dfcontrol[\"CartToEntrance\"], equal_var=False)[1],\n",
    "    dfptnA[\"CVR\"].mean(), \n",
    "    ((dfptnA[\"CVR\"].mean()-dfcontrol[\"CVR\"].mean())/dfcontrol[\"CVR\"].mean())*100, \n",
    "    stats.ttest_ind(dfptnA[\"CVR\"], dfcontrol[\"CVR\"], equal_var=False)[1]\n",
    "   ]]\n",
    ")\n",
    "ptnACategory.columns=[\"nomalizedCartToEnt\", \"UPnCTE\", \"CartToEntrance\", \"UpCTE\", \"p-CTE\", \"CVR\", \"UpCVR\", \"p-CVR\"]\n",
    "ptnACategory.index=[\"ptnA\"]\n",
    "controlItem = pd.DataFrame(\n",
    "  [[dfcontrolItem[\"nomalizedCartToEnt\"].mean(), 0, \n",
    "    dfcontrolItem[\"CartToEntrance\"].mean(), 0, 0,\n",
    "    dfcontrolItem[\"CVR\"].mean(), 0, 0]]\n",
    ")\n",
    "controlItem.columns=[\"nomalizedCartToEnt\", \"UPnCTE\", \"CartToEntrance\", \"UpCTE\", \"p-CTE\", \"CVR\", \"UpCVR\", \"p-CVR\"]\n",
    "controlItem.index=[\"controlItem\"]\n",
    "ptnBItem = pd.DataFrame(\n",
    "  [[dfptnB[\"nomalizedCartToEnt\"].mean(), \n",
    "    ((dfptnB[\"nomalizedCartToEnt\"].mean()-dfcontrol[\"nomalizedCartToEnt\"].mean())/dfcontrol[\"nomalizedCartToEnt\"].mean())*100, \n",
    "    dfptnB[\"CartToEntrance\"].mean(), \n",
    "    ((dfptnB[\"CartToEntrance\"].mean()-dfcontrol[\"CartToEntrance\"].mean())/dfcontrol[\"CartToEntrance\"].mean())*100, \n",
    "    stats.ttest_ind(dfptnB[\"CartToEntrance\"], dfcontrol[\"CartToEntrance\"], equal_var=False)[1],\n",
    "    dfptnB[\"CVR\"].mean(), \n",
    "    ((dfptnB[\"CVR\"].mean()-dfcontrol[\"CVR\"].mean())/dfcontrol[\"CVR\"].mean())*100,\n",
    "    stats.ttest_ind(dfptnB[\"CVR\"], dfcontrol[\"CVR\"], equal_var=False)[1]\n",
    "   ]]\n",
    ")\n",
    "ptnBItem.columns=[\"nomalizedCartToEnt\", \"UPnCTE\", \"CartToEntrance\", \"UpCTE\", \"p-CTE\", \"CVR\", \"UpCVR\", \"p-CVR\"]\n",
    "ptnBItem.index=[\"ptnB\"]\n",
    "print(pd.concat([dataTable, control, controlCategory, ptnACategory, controlItem, ptnBItem], axis=0))\n",
    "outTable = pd.DataFrame(\n",
    "  pd.concat([dataTable, control, controlCategory, ptnACategory, controlItem, ptnBItem], axis=0)\n",
    ")\n",
    "#outTable = pd.DataFrame()\n",
    "#pd.concat([dataTable, control, controlCategory, ptnACategory, controlItem, ptnBItem], axis=0)\n",
    "\n",
    "print(\"--- std ---\")\n",
    "print(dfcontrol[\"nomalizedCartToEnt\"].std())\n",
    "print(dfcontrolCategory[\"nomalizedCartToEnt\"].std())\n",
    "print(dfptnA[\"nomalizedCartToEnt\"].std())\n",
    "print(dfcontrolItem[\"nomalizedCartToEnt\"].std())\n",
    "print(dfptnB[\"nomalizedCartToEnt\"].std())\n",
    "print(\"--- median ---\")\n",
    "print(dfcontrol[\"nomalizedCartToEnt\"].median())\n",
    "print(dfcontrolCategory[\"nomalizedCartToEnt\"].median())\n",
    "print(dfptnA[\"nomalizedCartToEnt\"].median())\n",
    "print(dfcontrolItem[\"nomalizedCartToEnt\"].median())\n",
    "print(dfptnB[\"nomalizedCartToEnt\"].median())"
   ]
  },
  {
   "cell_type": "code",
   "execution_count": 9,
   "metadata": {
    "collapsed": false
   },
   "outputs": [
    {
     "data": {
      "text/plain": [
       "(0, 0.2)"
      ]
     },
     "execution_count": 9,
     "metadata": {},
     "output_type": "execute_result"
    },
    {
     "data": {
      "image/png": "[encoded data removed]",
      "text/plain": [
       "<matplotlib.figure.Figure at 0x7f32ae96f7d0>"
      ]
     },
     "metadata": {},
     "output_type": "display_data"
    }
   ],
   "source": [
    "sns.distplot(dfcontrol[\"CartToEntrance\"], kde=False, \n",
    "             rug=False, bins=50, norm_hist=True, hist_kws={\"color\":\"gray\", \"alpha\": 0.3})\n",
    "sns.distplot(dfptnA[\"CartToEntrance\"], kde=False, \n",
    "             rug=False, bins=50, norm_hist=True, hist_kws={\"color\":\"blue\", \"alpha\": 0.3})\n",
    "sns.distplot(dfptnB[\"CartToEntrance\"], kde=False, \n",
    "             rug=False, bins=50, norm_hist=True, hist_kws={\"color\":\"red\", \"alpha\": 0.3})\n",
    "sns.plt.xlim(0,0.2)"
   ]
  },
  {
   "cell_type": "code",
   "execution_count": 10,
   "metadata": {
    "collapsed": false
   },
   "outputs": [
    {
     "data": {
      "text/plain": [
       "(0, 0.1)"
      ]
     },
     "execution_count": 10,
     "metadata": {},
     "output_type": "execute_result"
    },
    {
     "data": {
      "image/png": "[encoded data removed]",
      "text/plain": [
       "<matplotlib.figure.Figure at 0x7f32ae4918d0>"
      ]
     },
     "metadata": {},
     "output_type": "display_data"
    }
   ],
   "source": [
    "sns.distplot(dfcontrol[\"CVR\"], kde=False, \n",
    "             rug=False, bins=50, norm_hist=True, hist_kws={\"color\":\"gray\", \"alpha\": 0.3})\n",
    "sns.distplot(dfptnA[\"CVR\"], kde=False, \n",
    "             rug=False, bins=50, norm_hist=True, hist_kws={\"color\":\"blue\", \"alpha\": 0.3})\n",
    "sns.distplot(dfptnB[\"CVR\"], kde=False, \n",
    "             rug=False, bins=50, norm_hist=True, hist_kws={\"color\":\"red\", \"alpha\": 0.3})\n",
    "sns.plt.xlim(0,0.1)"
   ]
  },
  {
   "cell_type": "code",
   "execution_count": 11,
   "metadata": {
    "collapsed": false
   },
   "outputs": [
    {
     "data": {
      "text/plain": [
       "(0, 0.2)"
      ]
     },
     "execution_count": 11,
     "metadata": {},
     "output_type": "execute_result"
    },
    {
     "data": {
      "image/png": "[encoded data removed]",
      "text/plain": [
       "<matplotlib.figure.Figure at 0x7f32af54bad0>"
      ]
     },
     "metadata": {},
     "output_type": "display_data"
    }
   ],
   "source": [
    "sns.distplot(dfptnB[\"CartToEntrance\"], kde=False, \n",
    "             rug=False, bins=50, \n",
    "             fit=stats.chi2, norm_hist=True, hist_kws={\"color\":\"red\", \"alpha\": 0.3})\n",
    "sns.plt.xlim(0,0.2)"
   ]
  },
  {
   "cell_type": "code",
   "execution_count": 12,
   "metadata": {
    "collapsed": false
   },
   "outputs": [
    {
     "data": {
      "text/plain": [
       "(0, 0.1)"
      ]
     },
     "execution_count": 12,
     "metadata": {},
     "output_type": "execute_result"
    },
    {
     "data": {
      "image/png": "[encoded data removed]",
      "text/plain": [
       "<matplotlib.figure.Figure at 0x7f32ae22db10>"
      ]
     },
     "metadata": {},
     "output_type": "display_data"
    }
   ],
   "source": [
    "sns.distplot(dfptnB[\"CVR\"], kde=False, rug=False, \n",
    "             bins=50, color=\"red\", norm_hist=True)\n",
    "sns.plt.xlim(0,0.1)"
   ]
  },
  {
   "cell_type": "code",
   "execution_count": 13,
   "metadata": {
    "collapsed": false
   },
   "outputs": [
    {
     "name": "stdout",
     "output_type": "stream",
     "text": [
      "--- Control ---\n",
      "16156\n",
      "5589\n",
      "35369011\n",
      "--- Control for A ---\n",
      "14039\n",
      "4516\n",
      "19822932\n",
      "--- pattern A ---\n",
      "14039\n",
      "4516\n",
      "19822932\n",
      "--- Control for B ---\n",
      "4371\n",
      "1278\n",
      "265508\n",
      "--- pattern B ---\n",
      "4371\n",
      "1278\n",
      "265508\n"
     ]
    }
   ],
   "source": [
    "print(\"--- Control ---\")\n",
    "print(dfcontrol[\"addingCart\"].sum(axis=0))\n",
    "print(dfcontrol[\"purchases\"].sum(axis=0))\n",
    "print(dfcontrol[\"entrances\"].sum(axis=0))\n",
    "print(\"--- Control for A ---\")\n",
    "print(dfcontrolCategory[\"addingCart\"].sum(axis=0))\n",
    "print(dfcontrolCategory[\"purchases\"].sum(axis=0))\n",
    "print(dfcontrolCategory[\"entrances\"].sum(axis=0))\n",
    "print(\"--- pattern A ---\")\n",
    "print(dfptnA[\"addingCart\"].sum(axis=0))\n",
    "print(dfptnA[\"purchases\"].sum(axis=0))\n",
    "print(dfptnA[\"entrances\"].sum(axis=0))\n",
    "print(\"--- Control for B ---\")\n",
    "print(dfcontrolItem[\"addingCart\"].sum(axis=0))\n",
    "print(dfcontrolItem[\"purchases\"].sum(axis=0))\n",
    "print(dfcontrolItem[\"entrances\"].sum(axis=0))\n",
    "print(\"--- pattern B ---\")\n",
    "print(dfptnB[\"addingCart\"].sum(axis=0))\n",
    "print(dfptnB[\"purchases\"].sum(axis=0))\n",
    "print(dfptnB[\"entrances\"].sum(axis=0))"
   ]
  }
 ],
 "metadata": {
  "kernelspec": {
   "display_name": "Python 2",
   "language": "python",
   "name": "python2"
  },
  "language_info": {
   "codemirror_mode": {
    "name": "ipython",
    "version": 2
   },
   "file_extension": ".py",
   "mimetype": "text/x-python",
   "name": "python",
   "nbconvert_exporter": "python",
   "pygments_lexer": "ipython2",
   "version": "2.7.12+"
  }
 },
 "nbformat": 4,
 "nbformat_minor": 0
}
