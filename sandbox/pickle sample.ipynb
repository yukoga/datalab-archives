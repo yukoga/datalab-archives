{
 "cells": [
  {
   "cell_type": "code",
   "execution_count": null,
   "metadata": {
    "collapsed": false
   },
   "outputs": [],
   "source": [
    "from gcp.context import Context\n",
    "import gcp.storage as storage\n",
    "import pandas as pd\n",
    "from io import BytesIO\n",
    "import pickle"
   ]
  },
  {
   "cell_type": "code",
   "execution_count": null,
   "metadata": {
    "collapsed": true
   },
   "outputs": [],
   "source": [
    "# Create object\n",
    "mydf = pd.DataFrame(data=[{1,2,3},{4,5,6}],columns=['a','b','c'])\n",
    "mydf.to_pickle('my_pickle_for_sandbox.pkl')"
   ]
  },
  {
   "cell_type": "code",
   "execution_count": null,
   "metadata": {
    "collapsed": false
   },
   "outputs": [],
   "source": [
    "# Create bucket on GCS\n",
    "my_bucket_name = Context.default().project_id + '-yukoga-example'\n",
    "my_bucket_path = 'gs://' + my_bucket_name\n",
    "my_bucket = storage.Bucket(my_bucket_name)\n",
    "if not my_bucket.exists():\n",
    "    my_bucket.create()"
   ]
  },
  {
   "cell_type": "code",
   "execution_count": null,
   "metadata": {
    "collapsed": true
   },
   "outputs": [],
   "source": [
    "# Write serialized object into GCS object.\n",
    "bucket_item = my_bucket.item('my_pickle_for_sandbox.pkl')\n",
    "with open('my_pickle_for_sandbox.pkl', 'rb') as f:\n",
    "    bucket_item.write_to(bytearray(f.read()), 'application/octet-stream')"
   ]
  },
  {
   "cell_type": "code",
   "execution_count": null,
   "metadata": {
    "collapsed": false
   },
   "outputs": [],
   "source": [
    "# Read serialized object from GCS object.\n",
    "serialized = my_bucket.item('my_pickle_for_sandbox.pkl').read_from()\n",
    "df_from_gcs = pickle.load(BytesIO(serialized))\n",
    "print(df_from_gcs)"
   ]
  }
 ],
 "metadata": {
  "kernelspec": {
   "display_name": "Python 2",
   "language": "python",
   "name": "python2"
  },
  "language_info": {
   "codemirror_mode": {
    "name": "ipython",
    "version": 2
   },
   "file_extension": ".py",
   "mimetype": "text/x-python",
   "name": "python",
   "nbconvert_exporter": "python",
   "pygments_lexer": "ipython2",
   "version": "2.7.12+"
  }
 },
 "nbformat": 4,
 "nbformat_minor": 0
}
